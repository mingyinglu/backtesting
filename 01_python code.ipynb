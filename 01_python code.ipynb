{
 "cells": [
  {
   "cell_type": "code",
   "execution_count": 1,
   "id": "b36166b7",
   "metadata": {},
   "outputs": [],
   "source": [
    "import pandas as pd\n",
    "import numpy as np\n",
    "import pandas_datareader as pdr\n",
    "from scipy.optimize import minimize\n",
    "import matplotlib.pyplot as plt\n",
    "from scipy.stats import norm\n",
    "from datetime import date"
   ]
  },
  {
   "cell_type": "code",
   "execution_count": 2,
   "id": "904e357b",
   "metadata": {},
   "outputs": [],
   "source": [
    "import bt\n",
    "import ffn\n",
    "%matplotlib inline"
   ]
  },
  {
   "cell_type": "markdown",
   "id": "a623396c",
   "metadata": {},
   "source": [
    "## Import Data"
   ]
  },
  {
   "cell_type": "code",
   "execution_count": 3,
   "id": "7bc2c78d",
   "metadata": {},
   "outputs": [
    {
     "data": {
      "text/html": [
       "<div>\n",
       "<style scoped>\n",
       "    .dataframe tbody tr th:only-of-type {\n",
       "        vertical-align: middle;\n",
       "    }\n",
       "\n",
       "    .dataframe tbody tr th {\n",
       "        vertical-align: top;\n",
       "    }\n",
       "\n",
       "    .dataframe thead th {\n",
       "        text-align: right;\n",
       "    }\n",
       "</style>\n",
       "<table border=\"1\" class=\"dataframe\">\n",
       "  <thead>\n",
       "    <tr style=\"text-align: right;\">\n",
       "      <th></th>\n",
       "      <th>US Treasury Bonds</th>\n",
       "      <th>US Inflation-Linked Bonds</th>\n",
       "      <th>Global Equity</th>\n",
       "      <th>Commodities</th>\n",
       "      <th>Gold</th>\n",
       "      <th>US High Yield Bonds</th>\n",
       "      <th>Emerging Market Sovereign Debt</th>\n",
       "      <th>Cash</th>\n",
       "      <th>LIBOR</th>\n",
       "    </tr>\n",
       "    <tr>\n",
       "      <th>PriceDate</th>\n",
       "      <th></th>\n",
       "      <th></th>\n",
       "      <th></th>\n",
       "      <th></th>\n",
       "      <th></th>\n",
       "      <th></th>\n",
       "      <th></th>\n",
       "      <th></th>\n",
       "      <th></th>\n",
       "    </tr>\n",
       "  </thead>\n",
       "  <tbody>\n",
       "    <tr>\n",
       "      <th>1998-12-31</th>\n",
       "      <td>983.50</td>\n",
       "      <td>106.1116</td>\n",
       "      <td>92.1840</td>\n",
       "      <td>136.3798</td>\n",
       "      <td>77.5773</td>\n",
       "      <td>536.47</td>\n",
       "      <td>88.052</td>\n",
       "      <td>349.4840</td>\n",
       "      <td>5.0656</td>\n",
       "    </tr>\n",
       "    <tr>\n",
       "      <th>1999-01-01</th>\n",
       "      <td>983.50</td>\n",
       "      <td>106.1116</td>\n",
       "      <td>92.1840</td>\n",
       "      <td>136.3798</td>\n",
       "      <td>77.5773</td>\n",
       "      <td>536.47</td>\n",
       "      <td>88.052</td>\n",
       "      <td>349.4840</td>\n",
       "      <td>5.0656</td>\n",
       "    </tr>\n",
       "    <tr>\n",
       "      <th>1999-01-04</th>\n",
       "      <td>982.38</td>\n",
       "      <td>105.6175</td>\n",
       "      <td>93.1440</td>\n",
       "      <td>136.9924</td>\n",
       "      <td>77.4047</td>\n",
       "      <td>536.88</td>\n",
       "      <td>89.451</td>\n",
       "      <td>349.6425</td>\n",
       "      <td>5.0603</td>\n",
       "    </tr>\n",
       "    <tr>\n",
       "      <th>1999-01-05</th>\n",
       "      <td>979.96</td>\n",
       "      <td>105.5680</td>\n",
       "      <td>94.0910</td>\n",
       "      <td>136.5933</td>\n",
       "      <td>77.3081</td>\n",
       "      <td>537.14</td>\n",
       "      <td>90.668</td>\n",
       "      <td>349.6979</td>\n",
       "      <td>5.0603</td>\n",
       "    </tr>\n",
       "    <tr>\n",
       "      <th>1999-01-06</th>\n",
       "      <td>982.35</td>\n",
       "      <td>106.3848</td>\n",
       "      <td>95.8840</td>\n",
       "      <td>138.5323</td>\n",
       "      <td>77.5296</td>\n",
       "      <td>537.63</td>\n",
       "      <td>90.909</td>\n",
       "      <td>349.7490</td>\n",
       "      <td>5.0603</td>\n",
       "    </tr>\n",
       "    <tr>\n",
       "      <th>...</th>\n",
       "      <td>...</td>\n",
       "      <td>...</td>\n",
       "      <td>...</td>\n",
       "      <td>...</td>\n",
       "      <td>...</td>\n",
       "      <td>...</td>\n",
       "      <td>...</td>\n",
       "      <td>...</td>\n",
       "      <td>...</td>\n",
       "    </tr>\n",
       "    <tr>\n",
       "      <th>2022-12-26</th>\n",
       "      <td>2200.70</td>\n",
       "      <td>329.5350</td>\n",
       "      <td>317.7814</td>\n",
       "      <td>642.2183</td>\n",
       "      <td>427.8410</td>\n",
       "      <td>2206.64</td>\n",
       "      <td>517.100</td>\n",
       "      <td>535.4438</td>\n",
       "      <td>4.7264</td>\n",
       "    </tr>\n",
       "    <tr>\n",
       "      <th>2022-12-27</th>\n",
       "      <td>2187.85</td>\n",
       "      <td>328.5899</td>\n",
       "      <td>317.4097</td>\n",
       "      <td>647.0357</td>\n",
       "      <td>432.5279</td>\n",
       "      <td>2202.30</td>\n",
       "      <td>515.099</td>\n",
       "      <td>535.6728</td>\n",
       "      <td>4.7264</td>\n",
       "    </tr>\n",
       "    <tr>\n",
       "      <th>2022-12-28</th>\n",
       "      <td>2184.57</td>\n",
       "      <td>328.2543</td>\n",
       "      <td>314.6942</td>\n",
       "      <td>643.4645</td>\n",
       "      <td>430.8486</td>\n",
       "      <td>2186.17</td>\n",
       "      <td>515.003</td>\n",
       "      <td>535.7443</td>\n",
       "      <td>4.7298</td>\n",
       "    </tr>\n",
       "    <tr>\n",
       "      <th>2022-12-29</th>\n",
       "      <td>2190.79</td>\n",
       "      <td>329.2668</td>\n",
       "      <td>318.6394</td>\n",
       "      <td>641.8389</td>\n",
       "      <td>433.3212</td>\n",
       "      <td>2185.11</td>\n",
       "      <td>514.549</td>\n",
       "      <td>535.7383</td>\n",
       "      <td>4.7538</td>\n",
       "    </tr>\n",
       "    <tr>\n",
       "      <th>2022-12-30</th>\n",
       "      <td>2188.39</td>\n",
       "      <td>329.0584</td>\n",
       "      <td>317.6005</td>\n",
       "      <td>644.1909</td>\n",
       "      <td>433.4213</td>\n",
       "      <td>2186.03</td>\n",
       "      <td>513.708</td>\n",
       "      <td>535.7786</td>\n",
       "      <td>4.7672</td>\n",
       "    </tr>\n",
       "  </tbody>\n",
       "</table>\n",
       "<p>6253 rows × 9 columns</p>\n",
       "</div>"
      ],
      "text/plain": [
       "            US Treasury Bonds  US Inflation-Linked Bonds  Global Equity  \\\n",
       "PriceDate                                                                 \n",
       "1998-12-31             983.50                   106.1116        92.1840   \n",
       "1999-01-01             983.50                   106.1116        92.1840   \n",
       "1999-01-04             982.38                   105.6175        93.1440   \n",
       "1999-01-05             979.96                   105.5680        94.0910   \n",
       "1999-01-06             982.35                   106.3848        95.8840   \n",
       "...                       ...                        ...            ...   \n",
       "2022-12-26            2200.70                   329.5350       317.7814   \n",
       "2022-12-27            2187.85                   328.5899       317.4097   \n",
       "2022-12-28            2184.57                   328.2543       314.6942   \n",
       "2022-12-29            2190.79                   329.2668       318.6394   \n",
       "2022-12-30            2188.39                   329.0584       317.6005   \n",
       "\n",
       "            Commodities      Gold  US High Yield Bonds  \\\n",
       "PriceDate                                                \n",
       "1998-12-31     136.3798   77.5773               536.47   \n",
       "1999-01-01     136.3798   77.5773               536.47   \n",
       "1999-01-04     136.9924   77.4047               536.88   \n",
       "1999-01-05     136.5933   77.3081               537.14   \n",
       "1999-01-06     138.5323   77.5296               537.63   \n",
       "...                 ...       ...                  ...   \n",
       "2022-12-26     642.2183  427.8410              2206.64   \n",
       "2022-12-27     647.0357  432.5279              2202.30   \n",
       "2022-12-28     643.4645  430.8486              2186.17   \n",
       "2022-12-29     641.8389  433.3212              2185.11   \n",
       "2022-12-30     644.1909  433.4213              2186.03   \n",
       "\n",
       "            Emerging Market Sovereign Debt      Cash   LIBOR  \n",
       "PriceDate                                                     \n",
       "1998-12-31                          88.052  349.4840  5.0656  \n",
       "1999-01-01                          88.052  349.4840  5.0656  \n",
       "1999-01-04                          89.451  349.6425  5.0603  \n",
       "1999-01-05                          90.668  349.6979  5.0603  \n",
       "1999-01-06                          90.909  349.7490  5.0603  \n",
       "...                                    ...       ...     ...  \n",
       "2022-12-26                         517.100  535.4438  4.7264  \n",
       "2022-12-27                         515.099  535.6728  4.7264  \n",
       "2022-12-28                         515.003  535.7443  4.7298  \n",
       "2022-12-29                         514.549  535.7383  4.7538  \n",
       "2022-12-30                         513.708  535.7786  4.7672  \n",
       "\n",
       "[6253 rows x 9 columns]"
      ]
     },
     "execution_count": 3,
     "metadata": {},
     "output_type": "execute_result"
    }
   ],
   "source": [
    "price1=pd.read_excel(\"price_data.xlsx\", sheet_name=\"Price Series\")\n",
    "price1=price1.set_index('PriceDate')                                #sets the PriceDate column as the index \n",
    "price1"
   ]
  },
  {
   "cell_type": "code",
   "execution_count": 4,
   "id": "994e8fdb",
   "metadata": {
    "scrolled": false
   },
   "outputs": [
    {
     "data": {
      "text/html": [
       "<div>\n",
       "<style scoped>\n",
       "    .dataframe tbody tr th:only-of-type {\n",
       "        vertical-align: middle;\n",
       "    }\n",
       "\n",
       "    .dataframe tbody tr th {\n",
       "        vertical-align: top;\n",
       "    }\n",
       "\n",
       "    .dataframe thead th {\n",
       "        text-align: right;\n",
       "    }\n",
       "</style>\n",
       "<table border=\"1\" class=\"dataframe\">\n",
       "  <thead>\n",
       "    <tr style=\"text-align: right;\">\n",
       "      <th></th>\n",
       "      <th>US Treasury Bonds</th>\n",
       "      <th>US Inflation-Linked Bonds</th>\n",
       "      <th>Global Equity</th>\n",
       "      <th>Commodities</th>\n",
       "      <th>Gold</th>\n",
       "      <th>US High Yield Bonds</th>\n",
       "      <th>Emerging Market Sovereign Debt</th>\n",
       "      <th>Cash</th>\n",
       "      <th>LIBOR</th>\n",
       "    </tr>\n",
       "    <tr>\n",
       "      <th>PriceDate</th>\n",
       "      <th></th>\n",
       "      <th></th>\n",
       "      <th></th>\n",
       "      <th></th>\n",
       "      <th></th>\n",
       "      <th></th>\n",
       "      <th></th>\n",
       "      <th></th>\n",
       "      <th></th>\n",
       "    </tr>\n",
       "  </thead>\n",
       "  <tbody>\n",
       "    <tr>\n",
       "      <th>1999-01-01</th>\n",
       "      <td>0.000000</td>\n",
       "      <td>0.000000</td>\n",
       "      <td>0.000000</td>\n",
       "      <td>0.000000</td>\n",
       "      <td>0.000000</td>\n",
       "      <td>0.000000</td>\n",
       "      <td>0.000000</td>\n",
       "      <td>0.000000</td>\n",
       "      <td>0.000201</td>\n",
       "    </tr>\n",
       "    <tr>\n",
       "      <th>1999-01-04</th>\n",
       "      <td>-0.001139</td>\n",
       "      <td>-0.004656</td>\n",
       "      <td>0.010414</td>\n",
       "      <td>0.004492</td>\n",
       "      <td>-0.002225</td>\n",
       "      <td>0.000764</td>\n",
       "      <td>0.015888</td>\n",
       "      <td>0.000454</td>\n",
       "      <td>0.000201</td>\n",
       "    </tr>\n",
       "    <tr>\n",
       "      <th>1999-01-05</th>\n",
       "      <td>-0.002463</td>\n",
       "      <td>-0.000469</td>\n",
       "      <td>0.010167</td>\n",
       "      <td>-0.002913</td>\n",
       "      <td>-0.001248</td>\n",
       "      <td>0.000484</td>\n",
       "      <td>0.013605</td>\n",
       "      <td>0.000158</td>\n",
       "      <td>0.000201</td>\n",
       "    </tr>\n",
       "    <tr>\n",
       "      <th>1999-01-06</th>\n",
       "      <td>0.002439</td>\n",
       "      <td>0.007737</td>\n",
       "      <td>0.019056</td>\n",
       "      <td>0.014195</td>\n",
       "      <td>0.002865</td>\n",
       "      <td>0.000912</td>\n",
       "      <td>0.002658</td>\n",
       "      <td>0.000146</td>\n",
       "      <td>0.000201</td>\n",
       "    </tr>\n",
       "    <tr>\n",
       "      <th>1999-01-07</th>\n",
       "      <td>-0.002871</td>\n",
       "      <td>0.000680</td>\n",
       "      <td>-0.002649</td>\n",
       "      <td>-0.000721</td>\n",
       "      <td>0.013456</td>\n",
       "      <td>0.000670</td>\n",
       "      <td>-0.019338</td>\n",
       "      <td>0.000168</td>\n",
       "      <td>0.000201</td>\n",
       "    </tr>\n",
       "    <tr>\n",
       "      <th>...</th>\n",
       "      <td>...</td>\n",
       "      <td>...</td>\n",
       "      <td>...</td>\n",
       "      <td>...</td>\n",
       "      <td>...</td>\n",
       "      <td>...</td>\n",
       "      <td>...</td>\n",
       "      <td>...</td>\n",
       "      <td>...</td>\n",
       "    </tr>\n",
       "    <tr>\n",
       "      <th>2022-12-26</th>\n",
       "      <td>0.000000</td>\n",
       "      <td>0.000000</td>\n",
       "      <td>0.000300</td>\n",
       "      <td>0.000000</td>\n",
       "      <td>0.000000</td>\n",
       "      <td>0.000000</td>\n",
       "      <td>0.000000</td>\n",
       "      <td>0.000000</td>\n",
       "      <td>0.000188</td>\n",
       "    </tr>\n",
       "    <tr>\n",
       "      <th>2022-12-27</th>\n",
       "      <td>-0.005839</td>\n",
       "      <td>-0.002868</td>\n",
       "      <td>-0.001170</td>\n",
       "      <td>0.007501</td>\n",
       "      <td>0.010955</td>\n",
       "      <td>-0.001967</td>\n",
       "      <td>-0.003870</td>\n",
       "      <td>0.000428</td>\n",
       "      <td>0.000188</td>\n",
       "    </tr>\n",
       "    <tr>\n",
       "      <th>2022-12-28</th>\n",
       "      <td>-0.001499</td>\n",
       "      <td>-0.001021</td>\n",
       "      <td>-0.008555</td>\n",
       "      <td>-0.005519</td>\n",
       "      <td>-0.003883</td>\n",
       "      <td>-0.007324</td>\n",
       "      <td>-0.000186</td>\n",
       "      <td>0.000133</td>\n",
       "      <td>0.000188</td>\n",
       "    </tr>\n",
       "    <tr>\n",
       "      <th>2022-12-29</th>\n",
       "      <td>0.002847</td>\n",
       "      <td>0.003084</td>\n",
       "      <td>0.012537</td>\n",
       "      <td>-0.002526</td>\n",
       "      <td>0.005739</td>\n",
       "      <td>-0.000485</td>\n",
       "      <td>-0.000882</td>\n",
       "      <td>-0.000011</td>\n",
       "      <td>0.000189</td>\n",
       "    </tr>\n",
       "    <tr>\n",
       "      <th>2022-12-30</th>\n",
       "      <td>-0.001095</td>\n",
       "      <td>-0.000633</td>\n",
       "      <td>-0.003260</td>\n",
       "      <td>0.003664</td>\n",
       "      <td>0.000231</td>\n",
       "      <td>0.000421</td>\n",
       "      <td>-0.001634</td>\n",
       "      <td>0.000075</td>\n",
       "      <td>0.000189</td>\n",
       "    </tr>\n",
       "  </tbody>\n",
       "</table>\n",
       "<p>6252 rows × 9 columns</p>\n",
       "</div>"
      ],
      "text/plain": [
       "            US Treasury Bonds  US Inflation-Linked Bonds  Global Equity  \\\n",
       "PriceDate                                                                 \n",
       "1999-01-01           0.000000                   0.000000       0.000000   \n",
       "1999-01-04          -0.001139                  -0.004656       0.010414   \n",
       "1999-01-05          -0.002463                  -0.000469       0.010167   \n",
       "1999-01-06           0.002439                   0.007737       0.019056   \n",
       "1999-01-07          -0.002871                   0.000680      -0.002649   \n",
       "...                       ...                        ...            ...   \n",
       "2022-12-26           0.000000                   0.000000       0.000300   \n",
       "2022-12-27          -0.005839                  -0.002868      -0.001170   \n",
       "2022-12-28          -0.001499                  -0.001021      -0.008555   \n",
       "2022-12-29           0.002847                   0.003084       0.012537   \n",
       "2022-12-30          -0.001095                  -0.000633      -0.003260   \n",
       "\n",
       "            Commodities      Gold  US High Yield Bonds  \\\n",
       "PriceDate                                                \n",
       "1999-01-01     0.000000  0.000000             0.000000   \n",
       "1999-01-04     0.004492 -0.002225             0.000764   \n",
       "1999-01-05    -0.002913 -0.001248             0.000484   \n",
       "1999-01-06     0.014195  0.002865             0.000912   \n",
       "1999-01-07    -0.000721  0.013456             0.000670   \n",
       "...                 ...       ...                  ...   \n",
       "2022-12-26     0.000000  0.000000             0.000000   \n",
       "2022-12-27     0.007501  0.010955            -0.001967   \n",
       "2022-12-28    -0.005519 -0.003883            -0.007324   \n",
       "2022-12-29    -0.002526  0.005739            -0.000485   \n",
       "2022-12-30     0.003664  0.000231             0.000421   \n",
       "\n",
       "            Emerging Market Sovereign Debt      Cash     LIBOR  \n",
       "PriceDate                                                       \n",
       "1999-01-01                        0.000000  0.000000  0.000201  \n",
       "1999-01-04                        0.015888  0.000454  0.000201  \n",
       "1999-01-05                        0.013605  0.000158  0.000201  \n",
       "1999-01-06                        0.002658  0.000146  0.000201  \n",
       "1999-01-07                       -0.019338  0.000168  0.000201  \n",
       "...                                    ...       ...       ...  \n",
       "2022-12-26                        0.000000  0.000000  0.000188  \n",
       "2022-12-27                       -0.003870  0.000428  0.000188  \n",
       "2022-12-28                       -0.000186  0.000133  0.000188  \n",
       "2022-12-29                       -0.000882 -0.000011  0.000189  \n",
       "2022-12-30                       -0.001634  0.000075  0.000189  \n",
       "\n",
       "[6252 rows x 9 columns]"
      ]
     },
     "execution_count": 4,
     "metadata": {},
     "output_type": "execute_result"
    }
   ],
   "source": [
    "# pct_change(): calculate returns\n",
    "return1=price1.pct_change().dropna()\n",
    "return1['LIBOR']=(price1['LIBOR']/100)/252   # convert annaulized financing rate to daily rate\n",
    "return1"
   ]
  },
  {
   "cell_type": "code",
   "execution_count": 5,
   "id": "35d34818",
   "metadata": {
    "scrolled": true
   },
   "outputs": [
    {
     "data": {
      "text/plain": [
       "US Treasury Bonds                 0.033311\n",
       "US Inflation-Linked Bonds         0.047159\n",
       "Global Equity                     0.062553\n",
       "Commodities                       0.073447\n",
       "Gold                              0.084004\n",
       "US High Yield Bonds               0.057896\n",
       "Emerging Market Sovereign Debt    0.073887\n",
       "Cash                              0.017225\n",
       "LIBOR                             0.020743\n",
       "dtype: float64"
      ]
     },
     "execution_count": 5,
     "metadata": {},
     "output_type": "execute_result"
    }
   ],
   "source": [
    "# expected return\n",
    "# assume 252 trading days\n",
    "return1.mean()*252"
   ]
  },
  {
   "cell_type": "code",
   "execution_count": 6,
   "id": "55edcb52",
   "metadata": {},
   "outputs": [
    {
     "data": {
      "text/plain": [
       "0.05085606704725717"
      ]
     },
     "execution_count": 6,
     "metadata": {},
     "output_type": "execute_result"
    }
   ],
   "source": [
    "return_ben = (0.6*return1.mean()['Global Equity']+0.4*return1.mean()['US Treasury Bonds'])*252\n",
    "return_ben"
   ]
  },
  {
   "cell_type": "markdown",
   "id": "dc9be7f6",
   "metadata": {},
   "source": [
    "## Indentify business cycle"
   ]
  },
  {
   "cell_type": "code",
   "execution_count": 7,
   "id": "22d1f579",
   "metadata": {},
   "outputs": [
    {
     "data": {
      "text/html": [
       "<div>\n",
       "<style scoped>\n",
       "    .dataframe tbody tr th:only-of-type {\n",
       "        vertical-align: middle;\n",
       "    }\n",
       "\n",
       "    .dataframe tbody tr th {\n",
       "        vertical-align: top;\n",
       "    }\n",
       "\n",
       "    .dataframe thead th {\n",
       "        text-align: right;\n",
       "    }\n",
       "</style>\n",
       "<table border=\"1\" class=\"dataframe\">\n",
       "  <thead>\n",
       "    <tr style=\"text-align: right;\">\n",
       "      <th></th>\n",
       "      <th>PMI</th>\n",
       "      <th>CPI</th>\n",
       "    </tr>\n",
       "    <tr>\n",
       "      <th>Date</th>\n",
       "      <th></th>\n",
       "      <th></th>\n",
       "    </tr>\n",
       "  </thead>\n",
       "  <tbody>\n",
       "    <tr>\n",
       "      <th>1960-01-31</th>\n",
       "      <td>61.5</td>\n",
       "      <td>1.24095</td>\n",
       "    </tr>\n",
       "    <tr>\n",
       "      <th>1960-02-29</th>\n",
       "      <td>52.3</td>\n",
       "      <td>1.41379</td>\n",
       "    </tr>\n",
       "    <tr>\n",
       "      <th>1960-03-31</th>\n",
       "      <td>47.8</td>\n",
       "      <td>1.51881</td>\n",
       "    </tr>\n",
       "    <tr>\n",
       "      <th>1960-04-30</th>\n",
       "      <td>45.3</td>\n",
       "      <td>1.93237</td>\n",
       "    </tr>\n",
       "    <tr>\n",
       "      <th>1960-05-31</th>\n",
       "      <td>42.6</td>\n",
       "      <td>1.82507</td>\n",
       "    </tr>\n",
       "    <tr>\n",
       "      <th>...</th>\n",
       "      <td>...</td>\n",
       "      <td>...</td>\n",
       "    </tr>\n",
       "    <tr>\n",
       "      <th>2022-08-31</th>\n",
       "      <td>52.8</td>\n",
       "      <td>8.22736</td>\n",
       "    </tr>\n",
       "    <tr>\n",
       "      <th>2022-09-30</th>\n",
       "      <td>50.9</td>\n",
       "      <td>8.21485</td>\n",
       "    </tr>\n",
       "    <tr>\n",
       "      <th>2022-10-31</th>\n",
       "      <td>50.2</td>\n",
       "      <td>7.76249</td>\n",
       "    </tr>\n",
       "    <tr>\n",
       "      <th>2022-11-30</th>\n",
       "      <td>49.0</td>\n",
       "      <td>7.13535</td>\n",
       "    </tr>\n",
       "    <tr>\n",
       "      <th>2022-12-31</th>\n",
       "      <td>48.4</td>\n",
       "      <td>6.44494</td>\n",
       "    </tr>\n",
       "  </tbody>\n",
       "</table>\n",
       "<p>756 rows × 2 columns</p>\n",
       "</div>"
      ],
      "text/plain": [
       "             PMI      CPI\n",
       "Date                     \n",
       "1960-01-31  61.5  1.24095\n",
       "1960-02-29  52.3  1.41379\n",
       "1960-03-31  47.8  1.51881\n",
       "1960-04-30  45.3  1.93237\n",
       "1960-05-31  42.6  1.82507\n",
       "...          ...      ...\n",
       "2022-08-31  52.8  8.22736\n",
       "2022-09-30  50.9  8.21485\n",
       "2022-10-31  50.2  7.76249\n",
       "2022-11-30  49.0  7.13535\n",
       "2022-12-31  48.4  6.44494\n",
       "\n",
       "[756 rows x 2 columns]"
      ]
     },
     "execution_count": 7,
     "metadata": {},
     "output_type": "execute_result"
    }
   ],
   "source": [
    "# import macro data (ISM PMI and CPI)\n",
    "macro = pd.read_excel(\"macro_data.xlsx\", sheet_name=\"Sheet1\")\n",
    "macro = macro.set_index('Date')\n",
    "macro"
   ]
  },
  {
   "cell_type": "code",
   "execution_count": 8,
   "id": "427e80d5",
   "metadata": {},
   "outputs": [
    {
     "data": {
      "text/html": [
       "<div>\n",
       "<style scoped>\n",
       "    .dataframe tbody tr th:only-of-type {\n",
       "        vertical-align: middle;\n",
       "    }\n",
       "\n",
       "    .dataframe tbody tr th {\n",
       "        vertical-align: top;\n",
       "    }\n",
       "\n",
       "    .dataframe thead th {\n",
       "        text-align: right;\n",
       "    }\n",
       "</style>\n",
       "<table border=\"1\" class=\"dataframe\">\n",
       "  <thead>\n",
       "    <tr style=\"text-align: right;\">\n",
       "      <th></th>\n",
       "      <th>PMI</th>\n",
       "      <th>CPI</th>\n",
       "      <th>PMI 6 month</th>\n",
       "      <th>CPI 6 month</th>\n",
       "      <th>PMI 12 month</th>\n",
       "      <th>CPI 12 month</th>\n",
       "    </tr>\n",
       "    <tr>\n",
       "      <th>Date</th>\n",
       "      <th></th>\n",
       "      <th></th>\n",
       "      <th></th>\n",
       "      <th></th>\n",
       "      <th></th>\n",
       "      <th></th>\n",
       "    </tr>\n",
       "  </thead>\n",
       "  <tbody>\n",
       "    <tr>\n",
       "      <th>1960-12-31</th>\n",
       "      <td>44.3</td>\n",
       "      <td>1.36008</td>\n",
       "      <td>45.216667</td>\n",
       "      <td>1.377435</td>\n",
       "      <td>47.100000</td>\n",
       "      <td>1.492768</td>\n",
       "    </tr>\n",
       "    <tr>\n",
       "      <th>1961-01-31</th>\n",
       "      <td>43.9</td>\n",
       "      <td>1.60027</td>\n",
       "      <td>45.250000</td>\n",
       "      <td>1.415445</td>\n",
       "      <td>45.633333</td>\n",
       "      <td>1.522712</td>\n",
       "    </tr>\n",
       "    <tr>\n",
       "      <th>1961-02-28</th>\n",
       "      <td>43.6</td>\n",
       "      <td>1.46209</td>\n",
       "      <td>44.583333</td>\n",
       "      <td>1.413525</td>\n",
       "      <td>44.908333</td>\n",
       "      <td>1.526737</td>\n",
       "    </tr>\n",
       "    <tr>\n",
       "      <th>1961-03-31</th>\n",
       "      <td>49.1</td>\n",
       "      <td>1.46209</td>\n",
       "      <td>45.200000</td>\n",
       "      <td>1.452078</td>\n",
       "      <td>45.016667</td>\n",
       "      <td>1.522010</td>\n",
       "    </tr>\n",
       "    <tr>\n",
       "      <th>1961-04-30</th>\n",
       "      <td>57.6</td>\n",
       "      <td>0.91401</td>\n",
       "      <td>47.133333</td>\n",
       "      <td>1.377270</td>\n",
       "      <td>46.041667</td>\n",
       "      <td>1.437147</td>\n",
       "    </tr>\n",
       "    <tr>\n",
       "      <th>...</th>\n",
       "      <td>...</td>\n",
       "      <td>...</td>\n",
       "      <td>...</td>\n",
       "      <td>...</td>\n",
       "      <td>...</td>\n",
       "      <td>...</td>\n",
       "    </tr>\n",
       "    <tr>\n",
       "      <th>2022-08-31</th>\n",
       "      <td>52.8</td>\n",
       "      <td>8.22736</td>\n",
       "      <td>54.533333</td>\n",
       "      <td>8.469808</td>\n",
       "      <td>57.008333</td>\n",
       "      <td>7.670601</td>\n",
       "    </tr>\n",
       "    <tr>\n",
       "      <th>2022-09-30</th>\n",
       "      <td>50.9</td>\n",
       "      <td>8.21485</td>\n",
       "      <td>53.500000</td>\n",
       "      <td>8.419747</td>\n",
       "      <td>56.208333</td>\n",
       "      <td>7.906536</td>\n",
       "    </tr>\n",
       "    <tr>\n",
       "      <th>2022-10-31</th>\n",
       "      <td>50.2</td>\n",
       "      <td>7.76249</td>\n",
       "      <td>52.633333</td>\n",
       "      <td>8.342200</td>\n",
       "      <td>55.325000</td>\n",
       "      <td>8.033598</td>\n",
       "    </tr>\n",
       "    <tr>\n",
       "      <th>2022-11-30</th>\n",
       "      <td>49.0</td>\n",
       "      <td>7.13535</td>\n",
       "      <td>51.450000</td>\n",
       "      <td>8.114370</td>\n",
       "      <td>54.358333</td>\n",
       "      <td>8.056344</td>\n",
       "    </tr>\n",
       "    <tr>\n",
       "      <th>2022-12-31</th>\n",
       "      <td>48.4</td>\n",
       "      <td>6.44494</td>\n",
       "      <td>50.683333</td>\n",
       "      <td>7.699695</td>\n",
       "      <td>53.491667</td>\n",
       "      <td>7.993884</td>\n",
       "    </tr>\n",
       "  </tbody>\n",
       "</table>\n",
       "<p>745 rows × 6 columns</p>\n",
       "</div>"
      ],
      "text/plain": [
       "             PMI      CPI  PMI 6 month  CPI 6 month  PMI 12 month  \\\n",
       "Date                                                                \n",
       "1960-12-31  44.3  1.36008    45.216667     1.377435     47.100000   \n",
       "1961-01-31  43.9  1.60027    45.250000     1.415445     45.633333   \n",
       "1961-02-28  43.6  1.46209    44.583333     1.413525     44.908333   \n",
       "1961-03-31  49.1  1.46209    45.200000     1.452078     45.016667   \n",
       "1961-04-30  57.6  0.91401    47.133333     1.377270     46.041667   \n",
       "...          ...      ...          ...          ...           ...   \n",
       "2022-08-31  52.8  8.22736    54.533333     8.469808     57.008333   \n",
       "2022-09-30  50.9  8.21485    53.500000     8.419747     56.208333   \n",
       "2022-10-31  50.2  7.76249    52.633333     8.342200     55.325000   \n",
       "2022-11-30  49.0  7.13535    51.450000     8.114370     54.358333   \n",
       "2022-12-31  48.4  6.44494    50.683333     7.699695     53.491667   \n",
       "\n",
       "            CPI 12 month  \n",
       "Date                      \n",
       "1960-12-31      1.492768  \n",
       "1961-01-31      1.522712  \n",
       "1961-02-28      1.526737  \n",
       "1961-03-31      1.522010  \n",
       "1961-04-30      1.437147  \n",
       "...                  ...  \n",
       "2022-08-31      7.670601  \n",
       "2022-09-30      7.906536  \n",
       "2022-10-31      8.033598  \n",
       "2022-11-30      8.056344  \n",
       "2022-12-31      7.993884  \n",
       "\n",
       "[745 rows x 6 columns]"
      ]
     },
     "execution_count": 8,
     "metadata": {},
     "output_type": "execute_result"
    }
   ],
   "source": [
    "# 6 and 12 month moving average\n",
    "\n",
    "macro['PMI 6 month'] = macro['PMI'].rolling(6).mean()\n",
    "macro['CPI 6 month'] = macro['CPI'].rolling(6).mean()\n",
    "macro['PMI 12 month'] = macro['PMI'].rolling(12).mean()\n",
    "macro['CPI 12 month'] = macro['CPI'].rolling(12).mean()\n",
    "macro.dropna(inplace=True)                             # drop NaN\n",
    "macro"
   ]
  },
  {
   "cell_type": "code",
   "execution_count": 9,
   "id": "9808d3cb",
   "metadata": {},
   "outputs": [
    {
     "data": {
      "text/html": [
       "<div>\n",
       "<style scoped>\n",
       "    .dataframe tbody tr th:only-of-type {\n",
       "        vertical-align: middle;\n",
       "    }\n",
       "\n",
       "    .dataframe tbody tr th {\n",
       "        vertical-align: top;\n",
       "    }\n",
       "\n",
       "    .dataframe thead th {\n",
       "        text-align: right;\n",
       "    }\n",
       "</style>\n",
       "<table border=\"1\" class=\"dataframe\">\n",
       "  <thead>\n",
       "    <tr style=\"text-align: right;\">\n",
       "      <th></th>\n",
       "      <th>PMI</th>\n",
       "      <th>CPI</th>\n",
       "      <th>PMI 6 month</th>\n",
       "      <th>CPI 6 month</th>\n",
       "      <th>PMI 12 month</th>\n",
       "      <th>CPI 12 month</th>\n",
       "      <th>position_PMI</th>\n",
       "      <th>position_CPI</th>\n",
       "    </tr>\n",
       "    <tr>\n",
       "      <th>Date</th>\n",
       "      <th></th>\n",
       "      <th></th>\n",
       "      <th></th>\n",
       "      <th></th>\n",
       "      <th></th>\n",
       "      <th></th>\n",
       "      <th></th>\n",
       "      <th></th>\n",
       "    </tr>\n",
       "  </thead>\n",
       "  <tbody>\n",
       "    <tr>\n",
       "      <th>1960-12-31</th>\n",
       "      <td>44.3</td>\n",
       "      <td>1.36008</td>\n",
       "      <td>45.216667</td>\n",
       "      <td>1.377435</td>\n",
       "      <td>47.100000</td>\n",
       "      <td>1.492768</td>\n",
       "      <td>-1</td>\n",
       "      <td>-1</td>\n",
       "    </tr>\n",
       "    <tr>\n",
       "      <th>1961-01-31</th>\n",
       "      <td>43.9</td>\n",
       "      <td>1.60027</td>\n",
       "      <td>45.250000</td>\n",
       "      <td>1.415445</td>\n",
       "      <td>45.633333</td>\n",
       "      <td>1.522712</td>\n",
       "      <td>-1</td>\n",
       "      <td>1</td>\n",
       "    </tr>\n",
       "    <tr>\n",
       "      <th>1961-02-28</th>\n",
       "      <td>43.6</td>\n",
       "      <td>1.46209</td>\n",
       "      <td>44.583333</td>\n",
       "      <td>1.413525</td>\n",
       "      <td>44.908333</td>\n",
       "      <td>1.526737</td>\n",
       "      <td>-1</td>\n",
       "      <td>-1</td>\n",
       "    </tr>\n",
       "    <tr>\n",
       "      <th>1961-03-31</th>\n",
       "      <td>49.1</td>\n",
       "      <td>1.46209</td>\n",
       "      <td>45.200000</td>\n",
       "      <td>1.452078</td>\n",
       "      <td>45.016667</td>\n",
       "      <td>1.522010</td>\n",
       "      <td>1</td>\n",
       "      <td>-1</td>\n",
       "    </tr>\n",
       "    <tr>\n",
       "      <th>1961-04-30</th>\n",
       "      <td>57.6</td>\n",
       "      <td>0.91401</td>\n",
       "      <td>47.133333</td>\n",
       "      <td>1.377270</td>\n",
       "      <td>46.041667</td>\n",
       "      <td>1.437147</td>\n",
       "      <td>1</td>\n",
       "      <td>-1</td>\n",
       "    </tr>\n",
       "    <tr>\n",
       "      <th>...</th>\n",
       "      <td>...</td>\n",
       "      <td>...</td>\n",
       "      <td>...</td>\n",
       "      <td>...</td>\n",
       "      <td>...</td>\n",
       "      <td>...</td>\n",
       "      <td>...</td>\n",
       "      <td>...</td>\n",
       "    </tr>\n",
       "    <tr>\n",
       "      <th>2022-08-31</th>\n",
       "      <td>52.8</td>\n",
       "      <td>8.22736</td>\n",
       "      <td>54.533333</td>\n",
       "      <td>8.469808</td>\n",
       "      <td>57.008333</td>\n",
       "      <td>7.670601</td>\n",
       "      <td>-1</td>\n",
       "      <td>-1</td>\n",
       "    </tr>\n",
       "    <tr>\n",
       "      <th>2022-09-30</th>\n",
       "      <td>50.9</td>\n",
       "      <td>8.21485</td>\n",
       "      <td>53.500000</td>\n",
       "      <td>8.419747</td>\n",
       "      <td>56.208333</td>\n",
       "      <td>7.906536</td>\n",
       "      <td>-1</td>\n",
       "      <td>-1</td>\n",
       "    </tr>\n",
       "    <tr>\n",
       "      <th>2022-10-31</th>\n",
       "      <td>50.2</td>\n",
       "      <td>7.76249</td>\n",
       "      <td>52.633333</td>\n",
       "      <td>8.342200</td>\n",
       "      <td>55.325000</td>\n",
       "      <td>8.033598</td>\n",
       "      <td>-1</td>\n",
       "      <td>-1</td>\n",
       "    </tr>\n",
       "    <tr>\n",
       "      <th>2022-11-30</th>\n",
       "      <td>49.0</td>\n",
       "      <td>7.13535</td>\n",
       "      <td>51.450000</td>\n",
       "      <td>8.114370</td>\n",
       "      <td>54.358333</td>\n",
       "      <td>8.056344</td>\n",
       "      <td>-1</td>\n",
       "      <td>-1</td>\n",
       "    </tr>\n",
       "    <tr>\n",
       "      <th>2022-12-31</th>\n",
       "      <td>48.4</td>\n",
       "      <td>6.44494</td>\n",
       "      <td>50.683333</td>\n",
       "      <td>7.699695</td>\n",
       "      <td>53.491667</td>\n",
       "      <td>7.993884</td>\n",
       "      <td>-1</td>\n",
       "      <td>-1</td>\n",
       "    </tr>\n",
       "  </tbody>\n",
       "</table>\n",
       "<p>745 rows × 8 columns</p>\n",
       "</div>"
      ],
      "text/plain": [
       "             PMI      CPI  PMI 6 month  CPI 6 month  PMI 12 month  \\\n",
       "Date                                                                \n",
       "1960-12-31  44.3  1.36008    45.216667     1.377435     47.100000   \n",
       "1961-01-31  43.9  1.60027    45.250000     1.415445     45.633333   \n",
       "1961-02-28  43.6  1.46209    44.583333     1.413525     44.908333   \n",
       "1961-03-31  49.1  1.46209    45.200000     1.452078     45.016667   \n",
       "1961-04-30  57.6  0.91401    47.133333     1.377270     46.041667   \n",
       "...          ...      ...          ...          ...           ...   \n",
       "2022-08-31  52.8  8.22736    54.533333     8.469808     57.008333   \n",
       "2022-09-30  50.9  8.21485    53.500000     8.419747     56.208333   \n",
       "2022-10-31  50.2  7.76249    52.633333     8.342200     55.325000   \n",
       "2022-11-30  49.0  7.13535    51.450000     8.114370     54.358333   \n",
       "2022-12-31  48.4  6.44494    50.683333     7.699695     53.491667   \n",
       "\n",
       "            CPI 12 month  position_PMI  position_CPI  \n",
       "Date                                                  \n",
       "1960-12-31      1.492768            -1            -1  \n",
       "1961-01-31      1.522712            -1             1  \n",
       "1961-02-28      1.526737            -1            -1  \n",
       "1961-03-31      1.522010             1            -1  \n",
       "1961-04-30      1.437147             1            -1  \n",
       "...                  ...           ...           ...  \n",
       "2022-08-31      7.670601            -1            -1  \n",
       "2022-09-30      7.906536            -1            -1  \n",
       "2022-10-31      8.033598            -1            -1  \n",
       "2022-11-30      8.056344            -1            -1  \n",
       "2022-12-31      7.993884            -1            -1  \n",
       "\n",
       "[745 rows x 8 columns]"
      ]
     },
     "execution_count": 9,
     "metadata": {},
     "output_type": "execute_result"
    }
   ],
   "source": [
    "# PMI and CPI position\n",
    "# If the indicator is above its six and twelve month moving average, the indicator is assigned a score of +1. \n",
    "# If below its six and twelve month moving average it is assigned a score of -1.\n",
    "\n",
    "macro['position_PMI'] = np.where( (macro['PMI'] > macro['PMI 6 month']) & (macro['PMI'] > macro['PMI 12 month'])  , 1 , -1)\n",
    "macro['position_CPI'] = np.where( (macro['CPI'] > macro['CPI 6 month']) & (macro['CPI'] > macro['CPI 12 month'])  , 1 , -1)\n",
    "\n",
    "macro"
   ]
  },
  {
   "cell_type": "code",
   "execution_count": 10,
   "id": "a87aa00f",
   "metadata": {},
   "outputs": [
    {
     "data": {
      "text/html": [
       "<div>\n",
       "<style scoped>\n",
       "    .dataframe tbody tr th:only-of-type {\n",
       "        vertical-align: middle;\n",
       "    }\n",
       "\n",
       "    .dataframe tbody tr th {\n",
       "        vertical-align: top;\n",
       "    }\n",
       "\n",
       "    .dataframe thead th {\n",
       "        text-align: right;\n",
       "    }\n",
       "</style>\n",
       "<table border=\"1\" class=\"dataframe\">\n",
       "  <thead>\n",
       "    <tr style=\"text-align: right;\">\n",
       "      <th></th>\n",
       "      <th>US Treasury Bonds</th>\n",
       "      <th>US Inflation-Linked Bonds</th>\n",
       "      <th>Global Equity</th>\n",
       "      <th>Commodities</th>\n",
       "      <th>Gold</th>\n",
       "      <th>US High Yield Bonds</th>\n",
       "      <th>Emerging Market Sovereign Debt</th>\n",
       "      <th>Cash</th>\n",
       "      <th>LIBOR</th>\n",
       "      <th>position_PMI</th>\n",
       "      <th>position_CPI</th>\n",
       "    </tr>\n",
       "    <tr>\n",
       "      <th>PriceDate</th>\n",
       "      <th></th>\n",
       "      <th></th>\n",
       "      <th></th>\n",
       "      <th></th>\n",
       "      <th></th>\n",
       "      <th></th>\n",
       "      <th></th>\n",
       "      <th></th>\n",
       "      <th></th>\n",
       "      <th></th>\n",
       "      <th></th>\n",
       "    </tr>\n",
       "  </thead>\n",
       "  <tbody>\n",
       "    <tr>\n",
       "      <th>1999-01-31</th>\n",
       "      <td>0.005859</td>\n",
       "      <td>0.011627</td>\n",
       "      <td>0.020609</td>\n",
       "      <td>-0.011775</td>\n",
       "      <td>-0.006038</td>\n",
       "      <td>0.014739</td>\n",
       "      <td>-0.019594</td>\n",
       "      <td>0.003806</td>\n",
       "      <td>0.004173</td>\n",
       "      <td>1</td>\n",
       "      <td>1</td>\n",
       "    </tr>\n",
       "    <tr>\n",
       "      <th>1999-02-28</th>\n",
       "      <td>-0.025751</td>\n",
       "      <td>-0.006985</td>\n",
       "      <td>-0.025292</td>\n",
       "      <td>-0.031827</td>\n",
       "      <td>0.004391</td>\n",
       "      <td>-0.005866</td>\n",
       "      <td>0.006578</td>\n",
       "      <td>0.003026</td>\n",
       "      <td>0.003965</td>\n",
       "      <td>1</td>\n",
       "      <td>1</td>\n",
       "    </tr>\n",
       "    <tr>\n",
       "      <th>1999-03-31</th>\n",
       "      <td>0.003899</td>\n",
       "      <td>-0.000136</td>\n",
       "      <td>0.045472</td>\n",
       "      <td>0.080451</td>\n",
       "      <td>-0.024011</td>\n",
       "      <td>0.009504</td>\n",
       "      <td>0.062251</td>\n",
       "      <td>0.004257</td>\n",
       "      <td>0.004573</td>\n",
       "      <td>1</td>\n",
       "      <td>1</td>\n",
       "    </tr>\n",
       "    <tr>\n",
       "      <th>1999-04-30</th>\n",
       "      <td>0.002475</td>\n",
       "      <td>0.006604</td>\n",
       "      <td>0.042393</td>\n",
       "      <td>0.034983</td>\n",
       "      <td>0.024235</td>\n",
       "      <td>0.019216</td>\n",
       "      <td>0.063100</td>\n",
       "      <td>0.003578</td>\n",
       "      <td>0.004364</td>\n",
       "      <td>1</td>\n",
       "      <td>1</td>\n",
       "    </tr>\n",
       "    <tr>\n",
       "      <th>1999-05-31</th>\n",
       "      <td>-0.009269</td>\n",
       "      <td>0.006876</td>\n",
       "      <td>-0.035058</td>\n",
       "      <td>-0.051420</td>\n",
       "      <td>-0.058628</td>\n",
       "      <td>-0.013605</td>\n",
       "      <td>-0.058990</td>\n",
       "      <td>0.003882</td>\n",
       "      <td>0.004187</td>\n",
       "      <td>1</td>\n",
       "      <td>1</td>\n",
       "    </tr>\n",
       "    <tr>\n",
       "      <th>...</th>\n",
       "      <td>...</td>\n",
       "      <td>...</td>\n",
       "      <td>...</td>\n",
       "      <td>...</td>\n",
       "      <td>...</td>\n",
       "      <td>...</td>\n",
       "      <td>...</td>\n",
       "      <td>...</td>\n",
       "      <td>...</td>\n",
       "      <td>...</td>\n",
       "      <td>...</td>\n",
       "    </tr>\n",
       "    <tr>\n",
       "      <th>2022-08-31</th>\n",
       "      <td>-0.024903</td>\n",
       "      <td>-0.026683</td>\n",
       "      <td>-0.036455</td>\n",
       "      <td>0.002619</td>\n",
       "      <td>-0.028727</td>\n",
       "      <td>-0.023139</td>\n",
       "      <td>-0.012761</td>\n",
       "      <td>0.001787</td>\n",
       "      <td>0.002695</td>\n",
       "      <td>-1</td>\n",
       "      <td>-1</td>\n",
       "    </tr>\n",
       "    <tr>\n",
       "      <th>2022-09-30</th>\n",
       "      <td>-0.034829</td>\n",
       "      <td>-0.067830</td>\n",
       "      <td>-0.098955</td>\n",
       "      <td>-0.070719</td>\n",
       "      <td>-0.028415</td>\n",
       "      <td>-0.040228</td>\n",
       "      <td>-0.068904</td>\n",
       "      <td>0.002231</td>\n",
       "      <td>0.002888</td>\n",
       "      <td>-1</td>\n",
       "      <td>-1</td>\n",
       "    </tr>\n",
       "    <tr>\n",
       "      <th>2022-10-31</th>\n",
       "      <td>-0.013853</td>\n",
       "      <td>0.012521</td>\n",
       "      <td>0.060521</td>\n",
       "      <td>0.022139</td>\n",
       "      <td>-0.014728</td>\n",
       "      <td>0.025923</td>\n",
       "      <td>0.002947</td>\n",
       "      <td>0.001764</td>\n",
       "      <td>0.003451</td>\n",
       "      <td>-1</td>\n",
       "      <td>-1</td>\n",
       "    </tr>\n",
       "    <tr>\n",
       "      <th>2022-11-30</th>\n",
       "      <td>0.026661</td>\n",
       "      <td>0.018483</td>\n",
       "      <td>0.076911</td>\n",
       "      <td>0.035523</td>\n",
       "      <td>0.066725</td>\n",
       "      <td>0.021728</td>\n",
       "      <td>0.076669</td>\n",
       "      <td>0.003407</td>\n",
       "      <td>0.003683</td>\n",
       "      <td>-1</td>\n",
       "      <td>-1</td>\n",
       "    </tr>\n",
       "    <tr>\n",
       "      <th>2022-12-31</th>\n",
       "      <td>-0.004984</td>\n",
       "      <td>-0.009997</td>\n",
       "      <td>-0.039259</td>\n",
       "      <td>-0.027055</td>\n",
       "      <td>0.041490</td>\n",
       "      <td>-0.006115</td>\n",
       "      <td>0.002339</td>\n",
       "      <td>0.003748</td>\n",
       "      <td>0.004137</td>\n",
       "      <td>-1</td>\n",
       "      <td>-1</td>\n",
       "    </tr>\n",
       "  </tbody>\n",
       "</table>\n",
       "<p>288 rows × 11 columns</p>\n",
       "</div>"
      ],
      "text/plain": [
       "            US Treasury Bonds  US Inflation-Linked Bonds  Global Equity  \\\n",
       "PriceDate                                                                 \n",
       "1999-01-31           0.005859                   0.011627       0.020609   \n",
       "1999-02-28          -0.025751                  -0.006985      -0.025292   \n",
       "1999-03-31           0.003899                  -0.000136       0.045472   \n",
       "1999-04-30           0.002475                   0.006604       0.042393   \n",
       "1999-05-31          -0.009269                   0.006876      -0.035058   \n",
       "...                       ...                        ...            ...   \n",
       "2022-08-31          -0.024903                  -0.026683      -0.036455   \n",
       "2022-09-30          -0.034829                  -0.067830      -0.098955   \n",
       "2022-10-31          -0.013853                   0.012521       0.060521   \n",
       "2022-11-30           0.026661                   0.018483       0.076911   \n",
       "2022-12-31          -0.004984                  -0.009997      -0.039259   \n",
       "\n",
       "            Commodities      Gold  US High Yield Bonds  \\\n",
       "PriceDate                                                \n",
       "1999-01-31    -0.011775 -0.006038             0.014739   \n",
       "1999-02-28    -0.031827  0.004391            -0.005866   \n",
       "1999-03-31     0.080451 -0.024011             0.009504   \n",
       "1999-04-30     0.034983  0.024235             0.019216   \n",
       "1999-05-31    -0.051420 -0.058628            -0.013605   \n",
       "...                 ...       ...                  ...   \n",
       "2022-08-31     0.002619 -0.028727            -0.023139   \n",
       "2022-09-30    -0.070719 -0.028415            -0.040228   \n",
       "2022-10-31     0.022139 -0.014728             0.025923   \n",
       "2022-11-30     0.035523  0.066725             0.021728   \n",
       "2022-12-31    -0.027055  0.041490            -0.006115   \n",
       "\n",
       "            Emerging Market Sovereign Debt      Cash     LIBOR  position_PMI  \\\n",
       "PriceDate                                                                      \n",
       "1999-01-31                       -0.019594  0.003806  0.004173             1   \n",
       "1999-02-28                        0.006578  0.003026  0.003965             1   \n",
       "1999-03-31                        0.062251  0.004257  0.004573             1   \n",
       "1999-04-30                        0.063100  0.003578  0.004364             1   \n",
       "1999-05-31                       -0.058990  0.003882  0.004187             1   \n",
       "...                                    ...       ...       ...           ...   \n",
       "2022-08-31                       -0.012761  0.001787  0.002695            -1   \n",
       "2022-09-30                       -0.068904  0.002231  0.002888            -1   \n",
       "2022-10-31                        0.002947  0.001764  0.003451            -1   \n",
       "2022-11-30                        0.076669  0.003407  0.003683            -1   \n",
       "2022-12-31                        0.002339  0.003748  0.004137            -1   \n",
       "\n",
       "            position_CPI  \n",
       "PriceDate                 \n",
       "1999-01-31             1  \n",
       "1999-02-28             1  \n",
       "1999-03-31             1  \n",
       "1999-04-30             1  \n",
       "1999-05-31             1  \n",
       "...                  ...  \n",
       "2022-08-31            -1  \n",
       "2022-09-30            -1  \n",
       "2022-10-31            -1  \n",
       "2022-11-30            -1  \n",
       "2022-12-31            -1  \n",
       "\n",
       "[288 rows x 11 columns]"
      ]
     },
     "execution_count": 10,
     "metadata": {},
     "output_type": "execute_result"
    }
   ],
   "source": [
    "# join return and position dataframe\n",
    "return2=return1.resample('M').sum().join(macro[['position_PMI','position_CPI']].tail(len(return1.resample('M').mean())))\n",
    "return2"
   ]
  },
  {
   "cell_type": "code",
   "execution_count": 11,
   "id": "f79d1485",
   "metadata": {},
   "outputs": [],
   "source": [
    "# creat four subsets of return\n",
    "# re: reflationary\n",
    "# in: inflationary\n",
    "# st: stagflationary\n",
    "# de: deflationary\n",
    "return2_re = return2[(return2['position_CPI']==-1) & (return2['position_PMI']==1)]\n",
    "return2_in = return2[(return2['position_CPI']==1) & (return2['position_PMI']==1)]\n",
    "return2_st = return2[(return2['position_CPI']==1) & (return2['position_PMI']==-1)]\n",
    "return2_de = return2[(return2['position_CPI']==-1) & (return2['position_PMI']==-1)]\n"
   ]
  },
  {
   "cell_type": "code",
   "execution_count": 12,
   "id": "4c166f4b",
   "metadata": {},
   "outputs": [],
   "source": [
    "# drop position columns\n",
    "return2_re = return2_re.drop(labels=['position_CPI','position_PMI'],axis='columns')\n",
    "return2_in = return2_in.drop(labels=['position_CPI','position_PMI'],axis='columns')\n",
    "return2_st = return2_st.drop(labels=['position_CPI','position_PMI'],axis='columns')\n",
    "return2_de = return2_de.drop(labels=['position_CPI','position_PMI'],axis='columns')\n",
    "return2 = return2.drop(labels=['position_CPI','position_PMI'],axis='columns')"
   ]
  },
  {
   "cell_type": "markdown",
   "id": "b9028f9c",
   "metadata": {},
   "source": [
    "# 1 Develop an Optimal Portfolio"
   ]
  },
  {
   "cell_type": "markdown",
   "id": "da9dce9d",
   "metadata": {},
   "source": [
    "## 1.1 Strategic Asset Allocation"
   ]
  },
  {
   "cell_type": "markdown",
   "id": "7d280aaf",
   "metadata": {},
   "source": [
    "### Portfolio return, standard deviation, and sharpe ratio funciton"
   ]
  },
  {
   "cell_type": "code",
   "execution_count": 13,
   "id": "1116240f",
   "metadata": {},
   "outputs": [
    {
     "data": {
      "text/plain": [
       "0.017224822676825208"
      ]
     },
     "execution_count": 13,
     "metadata": {},
     "output_type": "execute_result"
    }
   ],
   "source": [
    "# risk-free rate\n",
    "# assume 252 trading days\n",
    "rf=return1['Cash'].mean()*252\n",
    "rf"
   ]
  },
  {
   "cell_type": "code",
   "execution_count": 14,
   "id": "cd1cb0bd",
   "metadata": {},
   "outputs": [],
   "source": [
    "def portfolio(a1):\n",
    "    ret=np.dot(return2.mean(),a1)*12                     # annualize the portfolio return \n",
    "    std=np.dot(a1.T, np.dot(return2.cov()*12, a1))**0.5  # annualize the portfolio standard deviation \n",
    "    sharpe=(ret-rf)/std          \n",
    "    return ret,std,sharpe\n",
    "# assume the risk-free rate is cash return "
   ]
  },
  {
   "cell_type": "markdown",
   "id": "534500c5",
   "metadata": {},
   "source": [
    "### 10000 simulated portfolios"
   ]
  },
  {
   "cell_type": "code",
   "execution_count": 15,
   "id": "5929599d",
   "metadata": {},
   "outputs": [
    {
     "data": {
      "text/plain": [
       "array([[0.5488135 , 0.71518937, 0.60276338, ..., 0.43758721, 0.        ,\n",
       "        0.        ],\n",
       "       [0.891773  , 0.96366276, 0.38344152, ..., 0.92559664, 0.        ,\n",
       "        0.        ],\n",
       "       [0.07103606, 0.0871293 , 0.0202184 , ..., 0.97861834, 0.        ,\n",
       "        0.        ],\n",
       "       ...,\n",
       "       [0.80112783, 0.68132804, 0.62129113, ..., 0.45350417, 0.        ,\n",
       "        0.        ],\n",
       "       [0.23739229, 0.74157599, 0.70223407, ..., 0.39869781, 0.        ,\n",
       "        0.        ],\n",
       "       [0.82781822, 0.696543  , 0.8994513 , ..., 0.17973132, 0.        ,\n",
       "        0.        ]])"
      ]
     },
     "execution_count": 15,
     "metadata": {},
     "output_type": "execute_result"
    }
   ],
   "source": [
    "np.random.seed(0)\n",
    "# 10000*7 random numbers from a uniform distribution over (0, 1)\n",
    "# 10000*2 0 for cash and leverage\n",
    "a10000_1=np.random.uniform(0, 1, (10000,7))\n",
    "a10000_2=np.random.uniform(0, 0, (10000,2))\n",
    "a10000=np.concatenate((a10000_1, a10000_2), axis=1)\n",
    "a10000"
   ]
  },
  {
   "cell_type": "code",
   "execution_count": 16,
   "id": "904045b8",
   "metadata": {},
   "outputs": [
    {
     "data": {
      "text/plain": [
       "array([[0.14004683, 0.18250281, 0.15381382, ..., 0.11166399, 0.        ,\n",
       "        0.        ],\n",
       "       [0.17647904, 0.19070579, 0.07588186, ..., 0.18317263, 0.        ,\n",
       "        0.        ],\n",
       "       [0.01952725, 0.02395116, 0.00555788, ..., 0.26901446, 0.        ,\n",
       "        0.        ],\n",
       "       ...,\n",
       "       [0.2127749 , 0.18095677, 0.16501131, ..., 0.12044807, 0.        ,\n",
       "        0.        ],\n",
       "       [0.0781974 , 0.24427631, 0.23131701, ..., 0.13133169, 0.        ,\n",
       "        0.        ],\n",
       "       [0.1713862 , 0.14420782, 0.18621665, ..., 0.03721042, 0.        ,\n",
       "        0.        ]])"
      ]
     },
     "execution_count": 16,
     "metadata": {},
     "output_type": "execute_result"
    }
   ],
   "source": [
    "# normalize the weights \n",
    "# sum of the weights is 1\n",
    "for i in range(len(a10000)):\n",
    "    a10000[i]=(a10000[i]/sum(a10000[i]))\n",
    "a10000"
   ]
  },
  {
   "cell_type": "code",
   "execution_count": 17,
   "id": "2c45fce4",
   "metadata": {},
   "outputs": [],
   "source": [
    "# Portfolio return, standard deviation, and sharpe ratio funciton for 10000 portfolios\n",
    "def portfolios(a2):\n",
    "    df=pd.DataFrame(data={'ret':np.zeros(len(a10000)),'std':np.zeros(len(a10000)),'sharpe':np.zeros(len(a10000))})\n",
    "    for i in range(len(a10000)):\n",
    "        df['ret'][i]=np.dot(return2.mean(),a10000[i])*12\n",
    "        df['std'][i]=np.dot(a10000[i].T, np.dot(return2.cov()*12, a10000[i]))**0.5\n",
    "        df['sharpe'][i]=(df['ret'][i]-rf)/df['std'][i]          \n",
    "    return df"
   ]
  },
  {
   "cell_type": "code",
   "execution_count": 18,
   "id": "e6854ad5",
   "metadata": {},
   "outputs": [
    {
     "data": {
      "text/html": [
       "<div>\n",
       "<style scoped>\n",
       "    .dataframe tbody tr th:only-of-type {\n",
       "        vertical-align: middle;\n",
       "    }\n",
       "\n",
       "    .dataframe tbody tr th {\n",
       "        vertical-align: top;\n",
       "    }\n",
       "\n",
       "    .dataframe thead th {\n",
       "        text-align: right;\n",
       "    }\n",
       "</style>\n",
       "<table border=\"1\" class=\"dataframe\">\n",
       "  <thead>\n",
       "    <tr style=\"text-align: right;\">\n",
       "      <th></th>\n",
       "      <th>ret</th>\n",
       "      <th>std</th>\n",
       "      <th>sharpe</th>\n",
       "    </tr>\n",
       "  </thead>\n",
       "  <tbody>\n",
       "    <tr>\n",
       "      <th>0</th>\n",
       "      <td>0.062003</td>\n",
       "      <td>0.072695</td>\n",
       "      <td>0.615982</td>\n",
       "    </tr>\n",
       "    <tr>\n",
       "      <th>1</th>\n",
       "      <td>0.061984</td>\n",
       "      <td>0.068327</td>\n",
       "      <td>0.655067</td>\n",
       "    </tr>\n",
       "    <tr>\n",
       "      <th>2</th>\n",
       "      <td>0.073013</td>\n",
       "      <td>0.089420</td>\n",
       "      <td>0.623890</td>\n",
       "    </tr>\n",
       "    <tr>\n",
       "      <th>3</th>\n",
       "      <td>0.063222</td>\n",
       "      <td>0.073500</td>\n",
       "      <td>0.625811</td>\n",
       "    </tr>\n",
       "    <tr>\n",
       "      <th>4</th>\n",
       "      <td>0.062657</td>\n",
       "      <td>0.076629</td>\n",
       "      <td>0.592884</td>\n",
       "    </tr>\n",
       "    <tr>\n",
       "      <th>...</th>\n",
       "      <td>...</td>\n",
       "      <td>...</td>\n",
       "      <td>...</td>\n",
       "    </tr>\n",
       "    <tr>\n",
       "      <th>9995</th>\n",
       "      <td>0.060981</td>\n",
       "      <td>0.077372</td>\n",
       "      <td>0.565531</td>\n",
       "    </tr>\n",
       "    <tr>\n",
       "      <th>9996</th>\n",
       "      <td>0.062328</td>\n",
       "      <td>0.074129</td>\n",
       "      <td>0.608439</td>\n",
       "    </tr>\n",
       "    <tr>\n",
       "      <th>9997</th>\n",
       "      <td>0.061718</td>\n",
       "      <td>0.070666</td>\n",
       "      <td>0.629630</td>\n",
       "    </tr>\n",
       "    <tr>\n",
       "      <th>9998</th>\n",
       "      <td>0.065314</td>\n",
       "      <td>0.079834</td>\n",
       "      <td>0.602362</td>\n",
       "    </tr>\n",
       "    <tr>\n",
       "      <th>9999</th>\n",
       "      <td>0.061511</td>\n",
       "      <td>0.073618</td>\n",
       "      <td>0.601570</td>\n",
       "    </tr>\n",
       "  </tbody>\n",
       "</table>\n",
       "<p>10000 rows × 3 columns</p>\n",
       "</div>"
      ],
      "text/plain": [
       "           ret       std    sharpe\n",
       "0     0.062003  0.072695  0.615982\n",
       "1     0.061984  0.068327  0.655067\n",
       "2     0.073013  0.089420  0.623890\n",
       "3     0.063222  0.073500  0.625811\n",
       "4     0.062657  0.076629  0.592884\n",
       "...        ...       ...       ...\n",
       "9995  0.060981  0.077372  0.565531\n",
       "9996  0.062328  0.074129  0.608439\n",
       "9997  0.061718  0.070666  0.629630\n",
       "9998  0.065314  0.079834  0.602362\n",
       "9999  0.061511  0.073618  0.601570\n",
       "\n",
       "[10000 rows x 3 columns]"
      ]
     },
     "execution_count": 18,
     "metadata": {},
     "output_type": "execute_result"
    }
   ],
   "source": [
    "simport=portfolios(a10000)\n",
    "simport"
   ]
  },
  {
   "cell_type": "code",
   "execution_count": 19,
   "id": "d41c7f4a",
   "metadata": {},
   "outputs": [
    {
     "data": {
      "image/png": "[encoded data removed]",
      "text/plain": [
       "<Figure size 1000x500 with 2 Axes>"
      ]
     },
     "metadata": {},
     "output_type": "display_data"
    }
   ],
   "source": [
    "# visualize simulated portfolios\n",
    "plt.figure(figsize = (10, 5))\n",
    "plt.scatter(x=simport[\"std\"],y=simport[\"ret\"],c=simport[\"sharpe\"], cmap= \"coolwarm\")\n",
    "plt.colorbar(label='Sharpe Ratio')\n",
    "plt.xlabel('Standard Deviation')\n",
    "plt.ylabel('Return')\n",
    "plt.title('10000 Simulated Portfolios');"
   ]
  },
  {
   "cell_type": "markdown",
   "id": "4547617f",
   "metadata": {},
   "source": [
    "### Optimization algorithm "
   ]
  },
  {
   "cell_type": "code",
   "execution_count": 20,
   "id": "4b5e8290",
   "metadata": {},
   "outputs": [],
   "source": [
    "# four business cylces\n",
    "# the objective function to be minimized\n",
    "# maximize the sharpe ratio is equivalent to minimize the negative sharpe ratio\n",
    "def neg_sharpe_re(weight):\n",
    "    ret=np.dot(return2_re.mean(),weight)*12\n",
    "    std=np.dot(weight.T, np.dot(return2_re.cov()*12, weight))**0.5\n",
    "    sharpe=(ret-rf)/std       \n",
    "    return -sharpe\n",
    "\n",
    "def neg_sharpe_in(weight):\n",
    "    ret=np.dot(return2_in.mean(),weight)*12\n",
    "    std=np.dot(weight.T, np.dot(return2_in.cov()*12, weight))**0.5\n",
    "    sharpe=(ret-rf)/std       \n",
    "    return -sharpe\n",
    "\n",
    "def neg_sharpe_st(weight):\n",
    "    ret=np.dot(return2_st.mean(),weight)*12\n",
    "    std=np.dot(weight.T, np.dot(return2_st.cov()*12, weight))**0.5\n",
    "    sharpe=(ret-rf)/std       \n",
    "    return -sharpe\n",
    "\n",
    "def neg_sharpe_de(weight):\n",
    "    ret=np.dot(return2_de.mean(),weight)*12\n",
    "    std=np.dot(weight.T, np.dot(return2_de.cov()*12, weight))**0.5\n",
    "    sharpe=(ret-rf)/std       \n",
    "    return -sharpe"
   ]
  },
  {
   "cell_type": "code",
   "execution_count": 21,
   "id": "836fbd28",
   "metadata": {},
   "outputs": [],
   "source": [
    "# sum of the weights minus one is zero \n",
    "def sum_weight(weight):\n",
    "    return np.sum(weight)-1"
   ]
  },
  {
   "cell_type": "code",
   "execution_count": 22,
   "id": "75377b8f",
   "metadata": {},
   "outputs": [],
   "source": [
    "# four business cylces\n",
    "# target volatility 10%\n",
    "def target_vol_re(weight):\n",
    "    return 0.1-np.dot(weight.T, np.dot(return2_re.cov()*12, weight))**0.5\n",
    "\n",
    "def target_vol_in(weight):\n",
    "    return 0.1-np.dot(weight.T, np.dot(return2_in.cov()*12, weight))**0.5\n",
    "\n",
    "def target_vol_st(weight):\n",
    "    return 0.1-np.dot(weight.T, np.dot(return2_st.cov()*12, weight))**0.5\n",
    "\n",
    "def target_vol_de(weight):\n",
    "    return 0.1-np.dot(weight.T, np.dot(return2_de.cov()*12, weight))**0.5"
   ]
  },
  {
   "cell_type": "code",
   "execution_count": 23,
   "id": "f36ccd38",
   "metadata": {},
   "outputs": [],
   "source": [
    "# target return > 60/40\n",
    "def target_ret(weight):\n",
    "    return np.dot(return2.mean(),weight)*12-return_ben"
   ]
  },
  {
   "cell_type": "code",
   "execution_count": 24,
   "id": "6d448c65",
   "metadata": {},
   "outputs": [],
   "source": [
    "# the function sum_weight and target_vol defines the constraint\n",
    "# equality constraint (eq) means that the constraint function result is to be zero \n",
    "# inequalities (ineq) constraint means that the funciton result must be non-negative\n",
    "constraint_re = ({'type':'eq','fun': sum_weight},{'type':'eq','fun': target_vol_re},{'type':'ineq','fun': target_ret})\n",
    "constraint_in = ({'type':'eq','fun': sum_weight},{'type':'eq','fun': target_vol_in},{'type':'ineq','fun': target_ret})\n",
    "constraint_st = ({'type':'eq','fun': sum_weight},{'type':'eq','fun': target_vol_st},{'type':'ineq','fun': target_ret})\n",
    "constraint_de = ({'type':'eq','fun': sum_weight},{'type':'eq','fun': target_vol_de},{'type':'ineq','fun': target_ret})"
   ]
  },
  {
   "cell_type": "code",
   "execution_count": 25,
   "id": "8e02e4ae",
   "metadata": {},
   "outputs": [],
   "source": [
    "# lower and upper bounds \n",
    "# sequence of (min, max) pairs for each element\n",
    "# (0,1) for asset class\n",
    "# (0,0) for cash\n",
    "# (0,0) no leverage\n",
    "bound = ((0, 1), (0, 1), (0, 1), (0, 1),(0, 1), (0, 1), (0, 1), (0, 0), (0, 0))"
   ]
  },
  {
   "cell_type": "code",
   "execution_count": 26,
   "id": "e02394c6",
   "metadata": {},
   "outputs": [
    {
     "data": {
      "text/plain": [
       "array([0.11111111, 0.11111111, 0.11111111, 0.11111111, 0.11111111,\n",
       "       0.11111111, 0.11111111, 0.11111111, 0.11111111])"
      ]
     },
     "execution_count": 26,
     "metadata": {},
     "output_type": "execute_result"
    }
   ],
   "source": [
    "# initial guess of weights  \n",
    "# array of 9 elements \n",
    "a1=np.array([1/9]*9)\n",
    "a1"
   ]
  },
  {
   "cell_type": "code",
   "execution_count": 27,
   "id": "d8411d61",
   "metadata": {},
   "outputs": [
    {
     "data": {
      "text/plain": [
       " message: Optimization terminated successfully\n",
       " success: True\n",
       "  status: 0\n",
       "     fun: -1.7286087819240918\n",
       "       x: [ 0.000e+00  0.000e+00  6.573e-01  3.189e-16  3.427e-01\n",
       "            0.000e+00  2.767e-16  0.000e+00  0.000e+00]\n",
       "     nit: 8\n",
       "     jac: [-4.665e-01 -5.080e-01  1.554e-01 -3.891e-01 -8.007e-01\n",
       "           -8.811e-02 -3.803e-01        nan        nan]\n",
       "    nfev: 65\n",
       "    njev: 8"
      ]
     },
     "execution_count": 27,
     "metadata": {},
     "output_type": "execute_result"
    }
   ],
   "source": [
    "optimal_re=minimize(fun=neg_sharpe_re, x0=a1, method = 'SLSQP', bounds = bound, constraints = constraint_re)\n",
    "optimal_in=minimize(fun=neg_sharpe_in, x0=a1, method = 'SLSQP', bounds = bound, constraints = constraint_in)\n",
    "optimal_st=minimize(fun=neg_sharpe_st, x0=a1, method = 'SLSQP', bounds = bound, constraints = constraint_st)\n",
    "optimal_de=minimize(fun=neg_sharpe_de, x0=a1, method = 'SLSQP', bounds = bound, constraints = constraint_de)\n",
    "optimal_re\n",
    "# SLSQP stands for sequential least squares programming\n",
    "# SLSQP method minimizes a function of several variables with bounds and constraints\n",
    "# fun is the value of objective function"
   ]
  },
  {
   "cell_type": "code",
   "execution_count": 28,
   "id": "ec230949",
   "metadata": {},
   "outputs": [
    {
     "data": {
      "text/plain": [
       "array([1.74949626e-01, 0.00000000e+00, 1.06770197e-16, 0.00000000e+00,\n",
       "       4.78200921e-17, 1.08860674e-16, 8.25050374e-01, 0.00000000e+00,\n",
       "       0.00000000e+00])"
      ]
     },
     "execution_count": 28,
     "metadata": {},
     "output_type": "execute_result"
    }
   ],
   "source": [
    "# weights of the optimal portfolio in four periods\n",
    "# x is the solution array \n",
    "a_re=optimal_re[\"x\"]\n",
    "a_in=optimal_in[\"x\"]\n",
    "a_st=optimal_st[\"x\"]\n",
    "a_de=optimal_de[\"x\"]\n",
    "a_de"
   ]
  },
  {
   "cell_type": "code",
   "execution_count": 29,
   "id": "0f5a4df1",
   "metadata": {},
   "outputs": [
    {
     "data": {
      "text/plain": [
       "array([8.74748130e-02, 1.18306169e-01, 1.50611206e-01, 5.65527387e-02,\n",
       "       1.74529886e-01, 5.44303372e-17, 4.12525187e-01, 0.00000000e+00,\n",
       "       0.00000000e+00])"
      ]
     },
     "execution_count": 29,
     "metadata": {},
     "output_type": "execute_result"
    }
   ],
   "source": [
    "# 12.5% reflationary \n",
    "# 12.5% inflationary \n",
    "# 25% stagflationary \n",
    "# 50% deflationary\n",
    "# forward-looking\n",
    "a2 = a_re*0.125+a_in*0.125+a_st*0.25+a_de*0.5\n",
    "a2"
   ]
  },
  {
   "cell_type": "code",
   "execution_count": 30,
   "id": "667fcba3",
   "metadata": {},
   "outputs": [
    {
     "data": {
      "text/plain": [
       "US Treasury Bonds                 0.09\n",
       "US Inflation-Linked Bonds         0.12\n",
       "Global Equity                     0.15\n",
       "Commodities                       0.06\n",
       "Gold                              0.17\n",
       "US High Yield Bonds               0.00\n",
       "Emerging Market Sovereign Debt    0.41\n",
       "Cash                              0.00\n",
       "LIBOR                             0.00\n",
       "dtype: float64"
      ]
     },
     "execution_count": 30,
     "metadata": {},
     "output_type": "execute_result"
    }
   ],
   "source": [
    "# weights in a series with index values\n",
    "w=pd.Series(data=a2,index=return1.columns)\n",
    "round(w,2)"
   ]
  },
  {
   "cell_type": "code",
   "execution_count": 31,
   "id": "543b2b5b",
   "metadata": {},
   "outputs": [],
   "source": [
    "# expected ret, std, and sharpe ratio of the optimal portfolio based on the whole period data\n",
    "ret2,std2,sharpe2=portfolio(a2)"
   ]
  },
  {
   "cell_type": "code",
   "execution_count": 32,
   "id": "7fb9a5b4",
   "metadata": {},
   "outputs": [
    {
     "data": {
      "text/plain": [
       "0.06947646465491455"
      ]
     },
     "execution_count": 32,
     "metadata": {},
     "output_type": "execute_result"
    }
   ],
   "source": [
    "ret2"
   ]
  },
  {
   "cell_type": "code",
   "execution_count": 33,
   "id": "83d59bc0",
   "metadata": {},
   "outputs": [
    {
     "data": {
      "text/plain": [
       "0.08206941218182186"
      ]
     },
     "execution_count": 33,
     "metadata": {},
     "output_type": "execute_result"
    }
   ],
   "source": [
    "std2"
   ]
  },
  {
   "cell_type": "code",
   "execution_count": 34,
   "id": "e7fa4e36",
   "metadata": {
    "scrolled": true
   },
   "outputs": [
    {
     "data": {
      "text/plain": [
       "0.6366762060184822"
      ]
     },
     "execution_count": 34,
     "metadata": {},
     "output_type": "execute_result"
    }
   ],
   "source": [
    "sharpe2"
   ]
  },
  {
   "cell_type": "markdown",
   "id": "a2772561",
   "metadata": {},
   "source": [
    "## 1.2 Back-testing"
   ]
  },
  {
   "cell_type": "markdown",
   "id": "0bfe97ec",
   "metadata": {},
   "source": [
    "### clean the price data"
   ]
  },
  {
   "cell_type": "code",
   "execution_count": 35,
   "id": "82779cfe",
   "metadata": {},
   "outputs": [],
   "source": [
    "price1.drop(pd.to_datetime(\"1998-12-31\"),axis=\"index\",inplace=True)"
   ]
  },
  {
   "cell_type": "code",
   "execution_count": 36,
   "id": "a1dd67a1",
   "metadata": {},
   "outputs": [
    {
     "data": {
      "text/html": [
       "<div>\n",
       "<style scoped>\n",
       "    .dataframe tbody tr th:only-of-type {\n",
       "        vertical-align: middle;\n",
       "    }\n",
       "\n",
       "    .dataframe tbody tr th {\n",
       "        vertical-align: top;\n",
       "    }\n",
       "\n",
       "    .dataframe thead th {\n",
       "        text-align: right;\n",
       "    }\n",
       "</style>\n",
       "<table border=\"1\" class=\"dataframe\">\n",
       "  <thead>\n",
       "    <tr style=\"text-align: right;\">\n",
       "      <th></th>\n",
       "      <th>US Treasury Bonds</th>\n",
       "      <th>US Inflation-Linked Bonds</th>\n",
       "      <th>Global Equity</th>\n",
       "      <th>Commodities</th>\n",
       "      <th>Gold</th>\n",
       "      <th>US High Yield Bonds</th>\n",
       "      <th>Emerging Market Sovereign Debt</th>\n",
       "      <th>Cash</th>\n",
       "      <th>LIBOR</th>\n",
       "    </tr>\n",
       "    <tr>\n",
       "      <th>PriceDate</th>\n",
       "      <th></th>\n",
       "      <th></th>\n",
       "      <th></th>\n",
       "      <th></th>\n",
       "      <th></th>\n",
       "      <th></th>\n",
       "      <th></th>\n",
       "      <th></th>\n",
       "      <th></th>\n",
       "    </tr>\n",
       "  </thead>\n",
       "  <tbody>\n",
       "    <tr>\n",
       "      <th>1999-01-01</th>\n",
       "      <td>983.50</td>\n",
       "      <td>106.1116</td>\n",
       "      <td>92.1840</td>\n",
       "      <td>136.3798</td>\n",
       "      <td>77.5773</td>\n",
       "      <td>536.47</td>\n",
       "      <td>88.052</td>\n",
       "      <td>349.4840</td>\n",
       "      <td>5.0656</td>\n",
       "    </tr>\n",
       "    <tr>\n",
       "      <th>1999-01-04</th>\n",
       "      <td>982.38</td>\n",
       "      <td>105.6175</td>\n",
       "      <td>93.1440</td>\n",
       "      <td>136.9924</td>\n",
       "      <td>77.4047</td>\n",
       "      <td>536.88</td>\n",
       "      <td>89.451</td>\n",
       "      <td>349.6425</td>\n",
       "      <td>5.0603</td>\n",
       "    </tr>\n",
       "    <tr>\n",
       "      <th>1999-01-05</th>\n",
       "      <td>979.96</td>\n",
       "      <td>105.5680</td>\n",
       "      <td>94.0910</td>\n",
       "      <td>136.5933</td>\n",
       "      <td>77.3081</td>\n",
       "      <td>537.14</td>\n",
       "      <td>90.668</td>\n",
       "      <td>349.6979</td>\n",
       "      <td>5.0603</td>\n",
       "    </tr>\n",
       "    <tr>\n",
       "      <th>1999-01-06</th>\n",
       "      <td>982.35</td>\n",
       "      <td>106.3848</td>\n",
       "      <td>95.8840</td>\n",
       "      <td>138.5323</td>\n",
       "      <td>77.5296</td>\n",
       "      <td>537.63</td>\n",
       "      <td>90.909</td>\n",
       "      <td>349.7490</td>\n",
       "      <td>5.0603</td>\n",
       "    </tr>\n",
       "    <tr>\n",
       "      <th>1999-01-07</th>\n",
       "      <td>979.53</td>\n",
       "      <td>106.4571</td>\n",
       "      <td>95.6300</td>\n",
       "      <td>138.4324</td>\n",
       "      <td>78.5728</td>\n",
       "      <td>537.99</td>\n",
       "      <td>89.151</td>\n",
       "      <td>349.8079</td>\n",
       "      <td>5.0575</td>\n",
       "    </tr>\n",
       "    <tr>\n",
       "      <th>...</th>\n",
       "      <td>...</td>\n",
       "      <td>...</td>\n",
       "      <td>...</td>\n",
       "      <td>...</td>\n",
       "      <td>...</td>\n",
       "      <td>...</td>\n",
       "      <td>...</td>\n",
       "      <td>...</td>\n",
       "      <td>...</td>\n",
       "    </tr>\n",
       "    <tr>\n",
       "      <th>2022-12-26</th>\n",
       "      <td>2200.70</td>\n",
       "      <td>329.5350</td>\n",
       "      <td>317.7814</td>\n",
       "      <td>642.2183</td>\n",
       "      <td>427.8410</td>\n",
       "      <td>2206.64</td>\n",
       "      <td>517.100</td>\n",
       "      <td>535.4438</td>\n",
       "      <td>4.7264</td>\n",
       "    </tr>\n",
       "    <tr>\n",
       "      <th>2022-12-27</th>\n",
       "      <td>2187.85</td>\n",
       "      <td>328.5899</td>\n",
       "      <td>317.4097</td>\n",
       "      <td>647.0357</td>\n",
       "      <td>432.5279</td>\n",
       "      <td>2202.30</td>\n",
       "      <td>515.099</td>\n",
       "      <td>535.6728</td>\n",
       "      <td>4.7264</td>\n",
       "    </tr>\n",
       "    <tr>\n",
       "      <th>2022-12-28</th>\n",
       "      <td>2184.57</td>\n",
       "      <td>328.2543</td>\n",
       "      <td>314.6942</td>\n",
       "      <td>643.4645</td>\n",
       "      <td>430.8486</td>\n",
       "      <td>2186.17</td>\n",
       "      <td>515.003</td>\n",
       "      <td>535.7443</td>\n",
       "      <td>4.7298</td>\n",
       "    </tr>\n",
       "    <tr>\n",
       "      <th>2022-12-29</th>\n",
       "      <td>2190.79</td>\n",
       "      <td>329.2668</td>\n",
       "      <td>318.6394</td>\n",
       "      <td>641.8389</td>\n",
       "      <td>433.3212</td>\n",
       "      <td>2185.11</td>\n",
       "      <td>514.549</td>\n",
       "      <td>535.7383</td>\n",
       "      <td>4.7538</td>\n",
       "    </tr>\n",
       "    <tr>\n",
       "      <th>2022-12-30</th>\n",
       "      <td>2188.39</td>\n",
       "      <td>329.0584</td>\n",
       "      <td>317.6005</td>\n",
       "      <td>644.1909</td>\n",
       "      <td>433.4213</td>\n",
       "      <td>2186.03</td>\n",
       "      <td>513.708</td>\n",
       "      <td>535.7786</td>\n",
       "      <td>4.7672</td>\n",
       "    </tr>\n",
       "  </tbody>\n",
       "</table>\n",
       "<p>6252 rows × 9 columns</p>\n",
       "</div>"
      ],
      "text/plain": [
       "            US Treasury Bonds  US Inflation-Linked Bonds  Global Equity  \\\n",
       "PriceDate                                                                 \n",
       "1999-01-01             983.50                   106.1116        92.1840   \n",
       "1999-01-04             982.38                   105.6175        93.1440   \n",
       "1999-01-05             979.96                   105.5680        94.0910   \n",
       "1999-01-06             982.35                   106.3848        95.8840   \n",
       "1999-01-07             979.53                   106.4571        95.6300   \n",
       "...                       ...                        ...            ...   \n",
       "2022-12-26            2200.70                   329.5350       317.7814   \n",
       "2022-12-27            2187.85                   328.5899       317.4097   \n",
       "2022-12-28            2184.57                   328.2543       314.6942   \n",
       "2022-12-29            2190.79                   329.2668       318.6394   \n",
       "2022-12-30            2188.39                   329.0584       317.6005   \n",
       "\n",
       "            Commodities      Gold  US High Yield Bonds  \\\n",
       "PriceDate                                                \n",
       "1999-01-01     136.3798   77.5773               536.47   \n",
       "1999-01-04     136.9924   77.4047               536.88   \n",
       "1999-01-05     136.5933   77.3081               537.14   \n",
       "1999-01-06     138.5323   77.5296               537.63   \n",
       "1999-01-07     138.4324   78.5728               537.99   \n",
       "...                 ...       ...                  ...   \n",
       "2022-12-26     642.2183  427.8410              2206.64   \n",
       "2022-12-27     647.0357  432.5279              2202.30   \n",
       "2022-12-28     643.4645  430.8486              2186.17   \n",
       "2022-12-29     641.8389  433.3212              2185.11   \n",
       "2022-12-30     644.1909  433.4213              2186.03   \n",
       "\n",
       "            Emerging Market Sovereign Debt      Cash   LIBOR  \n",
       "PriceDate                                                     \n",
       "1999-01-01                          88.052  349.4840  5.0656  \n",
       "1999-01-04                          89.451  349.6425  5.0603  \n",
       "1999-01-05                          90.668  349.6979  5.0603  \n",
       "1999-01-06                          90.909  349.7490  5.0603  \n",
       "1999-01-07                          89.151  349.8079  5.0575  \n",
       "...                                    ...       ...     ...  \n",
       "2022-12-26                         517.100  535.4438  4.7264  \n",
       "2022-12-27                         515.099  535.6728  4.7264  \n",
       "2022-12-28                         515.003  535.7443  4.7298  \n",
       "2022-12-29                         514.549  535.7383  4.7538  \n",
       "2022-12-30                         513.708  535.7786  4.7672  \n",
       "\n",
       "[6252 rows x 9 columns]"
      ]
     },
     "execution_count": 36,
     "metadata": {},
     "output_type": "execute_result"
    }
   ],
   "source": [
    "price1"
   ]
  },
  {
   "cell_type": "markdown",
   "id": "94f90763",
   "metadata": {},
   "source": [
    "### back-testing strategy"
   ]
  },
  {
   "cell_type": "code",
   "execution_count": 37,
   "id": "6b2191b2",
   "metadata": {},
   "outputs": [],
   "source": [
    "# algo to fire on the beginning of every month and to run on the first date\n",
    "runMonthlyAlgo = bt.algos.RunMonthly(\n",
    "    run_on_first_date=True\n",
    ")\n",
    "\n",
    "# algo to set the weights\n",
    "#  it will only run when runMonthlyAlgo returns true\n",
    "#  which only happens on the first of every month\n",
    "weights_saa = pd.Series(a2,index = price1.columns)\n",
    "weights_6040 = pd.Series([0.4,0.,0.6,0.,0.,0.,0.,0.,0.],index = price1.columns)\n",
    "weighSpecifiedAlgo_saa = bt.algos.WeighSpecified(**weights_saa)\n",
    "weighSpecifiedAlgo_6040 = bt.algos.WeighSpecified(**weights_6040)\n",
    "\n",
    "# algo to rebalance the current weights to weights set by weighSpecified\n",
    "#  will only run when weighSpecifiedAlgo returns true\n",
    "#  which happens every time it runs\n",
    "rebalAlgo = bt.algos.Rebalance()\n",
    "\n",
    "# a strategy that rebalances monthly to specified weights\n",
    "saa = bt.Strategy('SAA',\n",
    "    [\n",
    "        runMonthlyAlgo,\n",
    "        weighSpecifiedAlgo_saa,\n",
    "        rebalAlgo\n",
    "    ]\n",
    ")\n",
    "\n",
    "traditional = bt.Strategy('60/40',\n",
    "    [\n",
    "        runMonthlyAlgo,\n",
    "        weighSpecifiedAlgo_6040,\n",
    "        rebalAlgo\n",
    "    ]\n",
    ")"
   ]
  },
  {
   "cell_type": "code",
   "execution_count": 38,
   "id": "5727e4c6",
   "metadata": {},
   "outputs": [],
   "source": [
    "# define backtest in bt.Backtest\n",
    "backtest_saa = bt.Backtest(saa,price1)\n",
    "backtest_traditional = bt.Backtest(traditional,price1)"
   ]
  },
  {
   "cell_type": "code",
   "execution_count": 39,
   "id": "2a4c8fdd",
   "metadata": {
    "scrolled": true
   },
   "outputs": [],
   "source": [
    "# run backtests with bt.run\n",
    "report_1 = bt.run(backtest_saa,backtest_traditional)"
   ]
  },
  {
   "cell_type": "markdown",
   "id": "1270fe2b",
   "metadata": {},
   "source": [
    "### Backtesting results"
   ]
  },
  {
   "cell_type": "code",
   "execution_count": 40,
   "id": "bce2e811",
   "metadata": {},
   "outputs": [
    {
     "data": {
      "text/plain": [
       "1999-01-01    100.000000\n",
       "1999-01-04    100.733845\n",
       "1999-01-05    101.393596\n",
       "1999-01-06    102.041415\n",
       "1999-01-07    101.390032\n",
       "                 ...    \n",
       "2022-12-26    497.917826\n",
       "2022-12-27    497.776423\n",
       "2022-12-28    496.495511\n",
       "2022-12-29    497.954022\n",
       "2022-12-30    497.416513\n",
       "Name: SAA, Length: 6252, dtype: float64"
      ]
     },
     "execution_count": 40,
     "metadata": {},
     "output_type": "execute_result"
    }
   ],
   "source": [
    "# SAA portfolio price\n",
    "price_saa = report_1.prices['SAA']\n",
    "price_saa = price_saa.iloc[np.where(price_saa.index>'1998-12-31')]\n",
    "price_saa"
   ]
  },
  {
   "cell_type": "code",
   "execution_count": 41,
   "id": "3492dc64",
   "metadata": {
    "scrolled": true
   },
   "outputs": [
    {
     "data": {
      "text/plain": [
       "1999-01-04    0.007338\n",
       "1999-01-05    0.006549\n",
       "1999-01-06    0.006389\n",
       "1999-01-07   -0.006384\n",
       "1999-01-08   -0.004085\n",
       "                ...   \n",
       "2022-12-26    0.000044\n",
       "2022-12-27   -0.000284\n",
       "2022-12-28   -0.002573\n",
       "2022-12-29    0.002938\n",
       "2022-12-30   -0.001079\n",
       "Name: SAA, Length: 6251, dtype: float64"
      ]
     },
     "execution_count": 41,
     "metadata": {},
     "output_type": "execute_result"
    }
   ],
   "source": [
    "# pct_change(): calculate returns\n",
    "return_saa=price_saa.pct_change().dropna()\n",
    "return_saa"
   ]
  },
  {
   "cell_type": "code",
   "execution_count": 42,
   "id": "52bc4235",
   "metadata": {},
   "outputs": [
    {
     "data": {
      "text/plain": [
       "1999-01-01    100.000000\n",
       "1999-01-04    100.579296\n",
       "1999-01-05    101.097352\n",
       "1999-01-06    102.361270\n",
       "1999-01-07    102.081475\n",
       "                 ...    \n",
       "2022-12-26    320.967343\n",
       "2022-12-27    319.979690\n",
       "2022-12-28    318.163863\n",
       "2022-12-29    320.888676\n",
       "2022-12-30    320.125724\n",
       "Name: 60/40, Length: 6252, dtype: float64"
      ]
     },
     "execution_count": 42,
     "metadata": {},
     "output_type": "execute_result"
    }
   ],
   "source": [
    "# 60/40 portfolio price\n",
    "price_6040 = report_1.prices['60/40']\n",
    "price_6040 = price_6040.iloc[np.where(price_6040.index>'1998-12-31')]\n",
    "price_6040"
   ]
  },
  {
   "cell_type": "code",
   "execution_count": 43,
   "id": "b389f390",
   "metadata": {},
   "outputs": [
    {
     "data": {
      "text/plain": [
       "1999-01-04    0.005793\n",
       "1999-01-05    0.005151\n",
       "1999-01-06    0.012502\n",
       "1999-01-07   -0.002733\n",
       "1999-01-08   -0.002356\n",
       "                ...   \n",
       "2022-12-26    0.000177\n",
       "2022-12-27   -0.003077\n",
       "2022-12-28   -0.005675\n",
       "2022-12-29    0.008564\n",
       "2022-12-30   -0.002378\n",
       "Name: 60/40, Length: 6251, dtype: float64"
      ]
     },
     "execution_count": 43,
     "metadata": {},
     "output_type": "execute_result"
    }
   ],
   "source": [
    "# pct_change(): calculate returns\n",
    "return_6040=price_6040.pct_change().dropna()\n",
    "return_6040"
   ]
  },
  {
   "cell_type": "code",
   "execution_count": 44,
   "id": "18f31ba4",
   "metadata": {},
   "outputs": [
    {
     "data": {
      "text/plain": [
       "-0.006013773014471868"
      ]
     },
     "execution_count": 44,
     "metadata": {},
     "output_type": "execute_result"
    }
   ],
   "source": [
    "# SAA\n",
    "# historical 1-day 95% VaR\n",
    "HVaR_95_saa = return_saa.quantile(0.05)\n",
    "HVaR_95_saa"
   ]
  },
  {
   "cell_type": "code",
   "execution_count": 45,
   "id": "5b51d0af",
   "metadata": {},
   "outputs": [
    {
     "data": {
      "text/plain": [
       "-0.006471899144954041"
      ]
     },
     "execution_count": 45,
     "metadata": {},
     "output_type": "execute_result"
    }
   ],
   "source": [
    "# SAA\n",
    "# analytical 1-day 95% VaR\n",
    "# calculate VaR using point percentile function\n",
    "# Assume normal distribution\n",
    "mean_saa = np.mean(return_saa)\n",
    "std_dev_saa = np.std(return_saa)\n",
    "AVaR_95_saa = norm.ppf(0.05, mean_saa, std_dev_saa)\n",
    "AVaR_95_saa"
   ]
  },
  {
   "cell_type": "code",
   "execution_count": 46,
   "id": "954fd8fc",
   "metadata": {},
   "outputs": [
    {
     "data": {
      "text/plain": [
       "-0.00863380549858267"
      ]
     },
     "execution_count": 46,
     "metadata": {},
     "output_type": "execute_result"
    }
   ],
   "source": [
    "# 60/40\n",
    "# historical 1-day 95% VaR\n",
    "HVaR_95_6040 = return_6040.quantile(0.05)\n",
    "HVaR_95_6040"
   ]
  },
  {
   "cell_type": "code",
   "execution_count": 47,
   "id": "b7ca49b3",
   "metadata": {},
   "outputs": [
    {
     "data": {
      "text/plain": [
       "-0.009136640152538721"
      ]
     },
     "execution_count": 47,
     "metadata": {},
     "output_type": "execute_result"
    }
   ],
   "source": [
    "# 60/40\n",
    "# analytical 1-day 95% VaR\n",
    "# calculate VaR using point percentile function\n",
    "# Assume normal distribution\n",
    "mean_6040 = np.mean(return_6040)\n",
    "std_dev_6040 = np.std(return_6040)\n",
    "AVaR_95_6040 = norm.ppf(0.05, mean_6040, std_dev_6040)\n",
    "AVaR_95_6040"
   ]
  },
  {
   "cell_type": "code",
   "execution_count": 48,
   "id": "7675317e",
   "metadata": {},
   "outputs": [],
   "source": [
    "# turnover rate\n",
    "turnover_saa = backtest_saa.turnover.mean()*252\n",
    "turnover_6040 = backtest_traditional.turnover.mean()*252"
   ]
  },
  {
   "cell_type": "code",
   "execution_count": 49,
   "id": "dabc36d8",
   "metadata": {},
   "outputs": [],
   "source": [
    "rf=float(rf)"
   ]
  },
  {
   "cell_type": "code",
   "execution_count": 50,
   "id": "b0cc6ced",
   "metadata": {
    "scrolled": true
   },
   "outputs": [],
   "source": [
    "# set risk-free rate\n",
    "report_1.set_riskfree_rate(rf)"
   ]
  },
  {
   "cell_type": "code",
   "execution_count": 51,
   "id": "2f306229",
   "metadata": {
    "scrolled": true
   },
   "outputs": [
    {
     "data": {
      "text/plain": [
       "rf                        0.017225\n",
       "total_return              3.974165\n",
       "cagr                      0.069137\n",
       "max_drawdown             -0.270808\n",
       "calmar                    0.255298\n",
       "mtd                      -0.001213\n",
       "three_month               0.070604\n",
       "six_month                 0.010076\n",
       "ytd                      -0.121368\n",
       "one_year                 -0.120008\n",
       "three_year                0.003289\n",
       "five_year                 0.022153\n",
       "ten_year                  0.023020\n",
       "incep                     0.069137\n",
       "daily_sharpe              0.764560\n",
       "daily_sortino             1.179093\n",
       "daily_mean                0.066789\n",
       "daily_vol                 0.065019\n",
       "daily_skew               -0.879043\n",
       "daily_kurt               12.910398\n",
       "best_day                  0.035773\n",
       "worst_day                -0.043642\n",
       "monthly_sharpe            0.650806\n",
       "monthly_sortino           1.034999\n",
       "monthly_mean              0.070436\n",
       "monthly_vol               0.081969\n",
       "monthly_skew             -1.316511\n",
       "monthly_kurt              6.660654\n",
       "best_month                0.062570\n",
       "worst_month              -0.150388\n",
       "yearly_sharpe             0.589096\n",
       "yearly_sortino            1.313569\n",
       "yearly_mean               0.073344\n",
       "yearly_vol                0.095263\n",
       "yearly_skew              -0.579245\n",
       "yearly_kurt              -0.079906\n",
       "best_year                 0.239370\n",
       "worst_year               -0.121368\n",
       "avg_drawdown             -0.011046\n",
       "avg_drawdown_days        25.835570\n",
       "avg_up_month              0.018990\n",
       "avg_down_month           -0.017343\n",
       "win_year_perc             0.791667\n",
       "twelve_month_win_perc     0.812950\n",
       "dtype: float64"
      ]
     },
     "execution_count": 51,
     "metadata": {},
     "output_type": "execute_result"
    }
   ],
   "source": [
    "statistics_saa = report_1['SAA'].stats.drop(['start','end'])\n",
    "statistics_saa = statistics_saa.astype(float)\n",
    "statistics_saa"
   ]
  },
  {
   "cell_type": "code",
   "execution_count": 52,
   "id": "c96a0149",
   "metadata": {
    "scrolled": true
   },
   "outputs": [
    {
     "data": {
      "text/plain": [
       "rf                        0.017225\n",
       "total_return              2.201257\n",
       "cagr                      0.049681\n",
       "max_drawdown             -0.364585\n",
       "calmar                    0.136268\n",
       "mtd                      -0.025715\n",
       "three_month               0.061225\n",
       "six_month                 0.000095\n",
       "ytd                      -0.157298\n",
       "one_year                 -0.157111\n",
       "three_year                0.019515\n",
       "five_year                 0.035877\n",
       "ten_year                  0.053092\n",
       "incep                     0.049681\n",
       "daily_sharpe              0.376029\n",
       "daily_sortino             0.588929\n",
       "daily_mean                0.050970\n",
       "daily_vol                 0.090130\n",
       "daily_skew               -0.388071\n",
       "daily_kurt                8.112032\n",
       "best_day                  0.049841\n",
       "worst_day                -0.055251\n",
       "monthly_sharpe            0.384978\n",
       "monthly_sortino           0.617524\n",
       "monthly_mean              0.052932\n",
       "monthly_vol               0.093101\n",
       "monthly_skew             -0.610318\n",
       "monthly_kurt              1.624558\n",
       "best_month                0.074981\n",
       "worst_month              -0.119396\n",
       "yearly_sharpe             0.342959\n",
       "yearly_sortino            0.612268\n",
       "yearly_mean               0.055895\n",
       "yearly_vol                0.112754\n",
       "yearly_skew              -0.935724\n",
       "yearly_kurt               0.375541\n",
       "best_year                 0.205199\n",
       "worst_year               -0.229767\n",
       "avg_drawdown             -0.012788\n",
       "avg_drawdown_days        28.860294\n",
       "avg_up_month              0.020338\n",
       "avg_down_month           -0.021745\n",
       "win_year_perc             0.666667\n",
       "twelve_month_win_perc     0.744604\n",
       "dtype: float64"
      ]
     },
     "execution_count": 52,
     "metadata": {},
     "output_type": "execute_result"
    }
   ],
   "source": [
    "statistics_6040 = report_1['60/40'].stats.drop(['start','end'])\n",
    "statistics_6040 = statistics_6040.astype(float)\n",
    "statistics_6040"
   ]
  },
  {
   "cell_type": "code",
   "execution_count": 53,
   "id": "9c333cde",
   "metadata": {
    "scrolled": true
   },
   "outputs": [
    {
     "data": {
      "text/html": [
       "<div>\n",
       "<style scoped>\n",
       "    .dataframe tbody tr th:only-of-type {\n",
       "        vertical-align: middle;\n",
       "    }\n",
       "\n",
       "    .dataframe tbody tr th {\n",
       "        vertical-align: top;\n",
       "    }\n",
       "\n",
       "    .dataframe thead th {\n",
       "        text-align: right;\n",
       "    }\n",
       "</style>\n",
       "<table border=\"1\" class=\"dataframe\">\n",
       "  <thead>\n",
       "    <tr style=\"text-align: right;\">\n",
       "      <th></th>\n",
       "      <th>SAA</th>\n",
       "      <th>60/40</th>\n",
       "    </tr>\n",
       "    <tr>\n",
       "      <th>Statistics</th>\n",
       "      <th></th>\n",
       "      <th></th>\n",
       "    </tr>\n",
       "  </thead>\n",
       "  <tbody>\n",
       "    <tr>\n",
       "      <th>Annualized Return (%)</th>\n",
       "      <td>6.91</td>\n",
       "      <td>4.97</td>\n",
       "    </tr>\n",
       "    <tr>\n",
       "      <th>Annualized Volatility (%)</th>\n",
       "      <td>9.53</td>\n",
       "      <td>11.28</td>\n",
       "    </tr>\n",
       "    <tr>\n",
       "      <th>Maximum Drawdown (%)</th>\n",
       "      <td>-27.08</td>\n",
       "      <td>-36.46</td>\n",
       "    </tr>\n",
       "    <tr>\n",
       "      <th>Historical VaR (1-day 95%) (%)</th>\n",
       "      <td>-0.60</td>\n",
       "      <td>-0.86</td>\n",
       "    </tr>\n",
       "    <tr>\n",
       "      <th>Analytical VaR (1-day 95%) (%)</th>\n",
       "      <td>-0.65</td>\n",
       "      <td>-0.91</td>\n",
       "    </tr>\n",
       "    <tr>\n",
       "      <th>Best Year (%)</th>\n",
       "      <td>23.94</td>\n",
       "      <td>20.52</td>\n",
       "    </tr>\n",
       "    <tr>\n",
       "      <th>Worst Year (%)</th>\n",
       "      <td>-12.14</td>\n",
       "      <td>-22.98</td>\n",
       "    </tr>\n",
       "    <tr>\n",
       "      <th>Turnover (%)</th>\n",
       "      <td>10.46</td>\n",
       "      <td>11.04</td>\n",
       "    </tr>\n",
       "    <tr>\n",
       "      <th>Sharpe Ratio</th>\n",
       "      <td>0.59</td>\n",
       "      <td>0.34</td>\n",
       "    </tr>\n",
       "    <tr>\n",
       "      <th>Sortino Ratio</th>\n",
       "      <td>1.31</td>\n",
       "      <td>0.61</td>\n",
       "    </tr>\n",
       "    <tr>\n",
       "      <th>60/40 Correlation</th>\n",
       "      <td>0.69</td>\n",
       "      <td>1.00</td>\n",
       "    </tr>\n",
       "  </tbody>\n",
       "</table>\n",
       "</div>"
      ],
      "text/plain": [
       "                                  SAA  60/40\n",
       "Statistics                                  \n",
       "Annualized Return (%)            6.91   4.97\n",
       "Annualized Volatility (%)        9.53  11.28\n",
       "Maximum Drawdown (%)           -27.08 -36.46\n",
       "Historical VaR (1-day 95%) (%)  -0.60  -0.86\n",
       "Analytical VaR (1-day 95%) (%)  -0.65  -0.91\n",
       "Best Year (%)                   23.94  20.52\n",
       "Worst Year (%)                 -12.14 -22.98\n",
       "Turnover (%)                    10.46  11.04\n",
       "Sharpe Ratio                     0.59   0.34\n",
       "Sortino Ratio                    1.31   0.61\n",
       "60/40 Correlation                0.69   1.00"
      ]
     },
     "execution_count": 53,
     "metadata": {},
     "output_type": "execute_result"
    }
   ],
   "source": [
    "# summary for SAA and 60/40 portfolio\n",
    "summary_1 = pd.DataFrame({\n",
    "    'Statistics' : ['Annualized Return (%)', 'Annualized Volatility (%)',  'Maximum Drawdown (%)', 'Historical VaR (1-day 95%) (%)', \n",
    "                    'Analytical VaR (1-day 95%) (%)','Best Year (%)','Worst Year (%)','Turnover (%)',\n",
    "                    'Sharpe Ratio','Sortino Ratio','60/40 Correlation'],\n",
    "    'SAA' : [statistics_saa[2], statistics_saa['yearly_vol'], statistics_saa['max_drawdown'], \n",
    "             HVaR_95_saa, AVaR_95_saa, statistics_saa['best_year'], statistics_saa['worst_year'], turnover_saa,\n",
    "             statistics_saa['yearly_sharpe'], statistics_saa['yearly_sortino'], return_saa.corr(return_6040)],\n",
    "    '60/40' : [statistics_6040[2], statistics_6040['yearly_vol'], statistics_6040['max_drawdown'], \n",
    "               HVaR_95_6040, AVaR_95_6040, statistics_6040['best_year'], statistics_6040['worst_year'], turnover_6040,\n",
    "               statistics_6040['yearly_sharpe'], statistics_6040['yearly_sortino'], return_6040.corr(return_6040)],\n",
    "})\n",
    "summary_1 = summary_1.set_index('Statistics')\n",
    "summary_1[0:8] = summary_1[0:8]*100\n",
    "round(summary_1,2)"
   ]
  },
  {
   "cell_type": "code",
   "execution_count": 54,
   "id": "516f642a",
   "metadata": {},
   "outputs": [
    {
     "data": {
      "image/png": "[encoded data removed]",
      "text/plain": [
       "<Figure size 1500x500 with 1 Axes>"
      ]
     },
     "metadata": {},
     "output_type": "display_data"
    }
   ],
   "source": [
    "report_1.plot()\n",
    "plt.xlabel('Year')\n",
    "plt.ylabel('Price (rebase to 100)');"
   ]
  },
  {
   "cell_type": "code",
   "execution_count": 55,
   "id": "61e2b01d",
   "metadata": {},
   "outputs": [
    {
     "data": {
      "image/png": "[encoded data removed]",
      "text/plain": [
       "<Figure size 640x480 with 1 Axes>"
      ]
     },
     "metadata": {},
     "output_type": "display_data"
    }
   ],
   "source": [
    "report_1.get_security_weights('SAA').plot.area()\n",
    "plt.title(\"Security Weights for SAA\")\n",
    "plt.legend(ncol=2,loc='upper center', bbox_to_anchor=(0.5,-0.15))\n",
    "plt.xlabel('Year')\n",
    "plt.ylabel('Weights');"
   ]
  },
  {
   "cell_type": "code",
   "execution_count": 56,
   "id": "7dd97306",
   "metadata": {},
   "outputs": [
    {
     "data": {
      "image/png": "[encoded data removed]",
      "text/plain": [
       "<Figure size 640x480 with 1 Axes>"
      ]
     },
     "metadata": {},
     "output_type": "display_data"
    }
   ],
   "source": [
    "report_1.get_security_weights('60/40').plot.area()\n",
    "plt.title(\"Security Weights for 60/40\")\n",
    "plt.legend(ncol=1,loc='upper center',bbox_to_anchor=(0.5,-0.15))\n",
    "plt.xlabel('Year')\n",
    "plt.ylabel('Weights');"
   ]
  },
  {
   "cell_type": "markdown",
   "id": "fb3442e6",
   "metadata": {},
   "source": [
    "## 2 Risk Parity Allocation"
   ]
  },
  {
   "cell_type": "markdown",
   "id": "e0551cf9",
   "metadata": {},
   "source": [
    "### Build and run ERC Strategy"
   ]
  },
  {
   "cell_type": "code",
   "execution_count": 57,
   "id": "e3dd29df",
   "metadata": {},
   "outputs": [
    {
     "data": {
      "text/plain": [
       "261"
      ]
     },
     "execution_count": 57,
     "metadata": {},
     "output_type": "execute_result"
    }
   ],
   "source": [
    "# calculate the first year business days\n",
    "d1 = date(1999, 1, 1)\n",
    "d2 = date(2000, 1, 3)\n",
    "days = np.busday_count(d1,d2)\n",
    "days"
   ]
  },
  {
   "cell_type": "code",
   "execution_count": 58,
   "id": "e7fff24e",
   "metadata": {},
   "outputs": [],
   "source": [
    "# algo to fire after first year\n",
    "runAfterDaysAlgo = bt.algos.RunAfterDays(\n",
    "    days\n",
    ")\n",
    "\n",
    "# algo to fire on the beginning of every year and to run on the first date\n",
    "runYearlyAlgo = bt.algos.RunYearly(\n",
    "    run_on_first_date=True\n",
    ")\n",
    "\n",
    "selectTheseAlgo = bt.algos.SelectThese(['US Treasury Bonds','US Inflation-Linked Bonds','Global Equity','Commodities',\n",
    "                                        'Gold','US High Yield Bonds','Emerging Market Sovereign Debt'])\n",
    "\n",
    "# algo to set the weights so each asset contributes the same amount of risk\n",
    "#  with data over the last 1 year\n",
    "weighERCAlgo = bt.algos.WeighERC(\n",
    "    lookback=pd.DateOffset(years=1),\n",
    "    covar_method='standard',\n",
    "    risk_parity_method='slsqp',\n",
    "    maximum_iterations=100,\n",
    "    tolerance=1e-8,\n",
    ")\n",
    "\n",
    "rebalAlgo = bt.algos.Rebalance()\n",
    "\n",
    "ERC = bt.Strategy(\n",
    "    'ERC',\n",
    "    [\n",
    "        runAfterDaysAlgo,\n",
    "        runYearlyAlgo,\n",
    "        selectTheseAlgo,\n",
    "        weighERCAlgo,\n",
    "        rebalAlgo\n",
    "    ]\n",
    ")"
   ]
  },
  {
   "cell_type": "code",
   "execution_count": 59,
   "id": "a255da4f",
   "metadata": {},
   "outputs": [],
   "source": [
    "# define backtest in bt.Backtest\n",
    "backtest_erc = bt.Backtest(\n",
    "    ERC,\n",
    "    price1,\n",
    "    integer_positions=False\n",
    ")"
   ]
  },
  {
   "cell_type": "code",
   "execution_count": 60,
   "id": "7f4b3646",
   "metadata": {},
   "outputs": [
    {
     "name": "stderr",
     "output_type": "stream",
     "text": [
      "C:\\Users\\USER\\anaconda3\\lib\\site-packages\\future\\utils\\__init__.py:315: FutureWarning: iteritems is deprecated and will be removed in a future version. Use .items instead.\n",
      "  return func(**kwargs)\n",
      "C:\\Users\\USER\\anaconda3\\lib\\site-packages\\future\\utils\\__init__.py:315: FutureWarning: iteritems is deprecated and will be removed in a future version. Use .items instead.\n",
      "  return func(**kwargs)\n",
      "C:\\Users\\USER\\anaconda3\\lib\\site-packages\\future\\utils\\__init__.py:315: FutureWarning: iteritems is deprecated and will be removed in a future version. Use .items instead.\n",
      "  return func(**kwargs)\n",
      "C:\\Users\\USER\\anaconda3\\lib\\site-packages\\future\\utils\\__init__.py:315: FutureWarning: iteritems is deprecated and will be removed in a future version. Use .items instead.\n",
      "  return func(**kwargs)\n",
      "C:\\Users\\USER\\anaconda3\\lib\\site-packages\\future\\utils\\__init__.py:315: FutureWarning: iteritems is deprecated and will be removed in a future version. Use .items instead.\n",
      "  return func(**kwargs)\n",
      "C:\\Users\\USER\\anaconda3\\lib\\site-packages\\future\\utils\\__init__.py:315: FutureWarning: iteritems is deprecated and will be removed in a future version. Use .items instead.\n",
      "  return func(**kwargs)\n",
      "C:\\Users\\USER\\anaconda3\\lib\\site-packages\\future\\utils\\__init__.py:315: FutureWarning: iteritems is deprecated and will be removed in a future version. Use .items instead.\n",
      "  return func(**kwargs)\n",
      "C:\\Users\\USER\\anaconda3\\lib\\site-packages\\future\\utils\\__init__.py:315: FutureWarning: iteritems is deprecated and will be removed in a future version. Use .items instead.\n",
      "  return func(**kwargs)\n",
      "C:\\Users\\USER\\anaconda3\\lib\\site-packages\\future\\utils\\__init__.py:315: FutureWarning: iteritems is deprecated and will be removed in a future version. Use .items instead.\n",
      "  return func(**kwargs)\n",
      "C:\\Users\\USER\\anaconda3\\lib\\site-packages\\future\\utils\\__init__.py:315: FutureWarning: iteritems is deprecated and will be removed in a future version. Use .items instead.\n",
      "  return func(**kwargs)\n",
      "C:\\Users\\USER\\anaconda3\\lib\\site-packages\\future\\utils\\__init__.py:315: FutureWarning: iteritems is deprecated and will be removed in a future version. Use .items instead.\n",
      "  return func(**kwargs)\n",
      "C:\\Users\\USER\\anaconda3\\lib\\site-packages\\future\\utils\\__init__.py:315: FutureWarning: iteritems is deprecated and will be removed in a future version. Use .items instead.\n",
      "  return func(**kwargs)\n",
      "C:\\Users\\USER\\anaconda3\\lib\\site-packages\\future\\utils\\__init__.py:315: FutureWarning: iteritems is deprecated and will be removed in a future version. Use .items instead.\n",
      "  return func(**kwargs)\n",
      "C:\\Users\\USER\\anaconda3\\lib\\site-packages\\future\\utils\\__init__.py:315: FutureWarning: iteritems is deprecated and will be removed in a future version. Use .items instead.\n",
      "  return func(**kwargs)\n",
      "C:\\Users\\USER\\anaconda3\\lib\\site-packages\\future\\utils\\__init__.py:315: FutureWarning: iteritems is deprecated and will be removed in a future version. Use .items instead.\n",
      "  return func(**kwargs)\n",
      "C:\\Users\\USER\\anaconda3\\lib\\site-packages\\future\\utils\\__init__.py:315: FutureWarning: iteritems is deprecated and will be removed in a future version. Use .items instead.\n",
      "  return func(**kwargs)\n",
      "C:\\Users\\USER\\anaconda3\\lib\\site-packages\\future\\utils\\__init__.py:315: FutureWarning: iteritems is deprecated and will be removed in a future version. Use .items instead.\n",
      "  return func(**kwargs)\n",
      "C:\\Users\\USER\\anaconda3\\lib\\site-packages\\future\\utils\\__init__.py:315: FutureWarning: iteritems is deprecated and will be removed in a future version. Use .items instead.\n",
      "  return func(**kwargs)\n",
      "C:\\Users\\USER\\anaconda3\\lib\\site-packages\\future\\utils\\__init__.py:315: FutureWarning: iteritems is deprecated and will be removed in a future version. Use .items instead.\n",
      "  return func(**kwargs)\n",
      "C:\\Users\\USER\\anaconda3\\lib\\site-packages\\future\\utils\\__init__.py:315: FutureWarning: iteritems is deprecated and will be removed in a future version. Use .items instead.\n",
      "  return func(**kwargs)\n",
      "C:\\Users\\USER\\anaconda3\\lib\\site-packages\\future\\utils\\__init__.py:315: FutureWarning: iteritems is deprecated and will be removed in a future version. Use .items instead.\n",
      "  return func(**kwargs)\n",
      "C:\\Users\\USER\\anaconda3\\lib\\site-packages\\future\\utils\\__init__.py:315: FutureWarning: iteritems is deprecated and will be removed in a future version. Use .items instead.\n",
      "  return func(**kwargs)\n",
      "C:\\Users\\USER\\anaconda3\\lib\\site-packages\\future\\utils\\__init__.py:315: FutureWarning: iteritems is deprecated and will be removed in a future version. Use .items instead.\n",
      "  return func(**kwargs)\n"
     ]
    }
   ],
   "source": [
    "# run backtests with bt.run\n",
    "report_erc = bt.run(backtest_erc)"
   ]
  },
  {
   "cell_type": "markdown",
   "id": "4669a33a",
   "metadata": {},
   "source": [
    "### Backtesting results"
   ]
  },
  {
   "cell_type": "code",
   "execution_count": 61,
   "id": "7c21f0ad",
   "metadata": {
    "scrolled": false
   },
   "outputs": [
    {
     "data": {
      "text/plain": [
       "2000-01-03    100.000000\n",
       "2000-01-04     99.752083\n",
       "2000-01-05     99.497014\n",
       "2000-01-06     99.421332\n",
       "2000-01-07     99.585493\n",
       "                 ...    \n",
       "2022-12-26    347.021402\n",
       "2022-12-27    346.449116\n",
       "2022-12-28    345.038986\n",
       "2022-12-29    345.569503\n",
       "2022-12-30    345.461854\n",
       "Name: ERC, Length: 5991, dtype: float64"
      ]
     },
     "execution_count": 61,
     "metadata": {},
     "output_type": "execute_result"
    }
   ],
   "source": [
    "# ERC portfolio price\n",
    "price_erc = report_erc.prices['ERC']\n",
    "price_erc = price_erc.iloc[np.where(price_erc.index>'1999-12-31')]\n",
    "price_erc"
   ]
  },
  {
   "cell_type": "code",
   "execution_count": 62,
   "id": "6ccb5fd3",
   "metadata": {},
   "outputs": [
    {
     "data": {
      "text/plain": [
       "2000-01-04   -0.002479\n",
       "2000-01-05   -0.002557\n",
       "2000-01-06   -0.000761\n",
       "2000-01-07    0.001651\n",
       "2000-01-10    0.000396\n",
       "                ...   \n",
       "2022-12-26    0.000018\n",
       "2022-12-27   -0.001649\n",
       "2022-12-28   -0.004070\n",
       "2022-12-29    0.001538\n",
       "2022-12-30   -0.000312\n",
       "Name: ERC, Length: 5990, dtype: float64"
      ]
     },
     "execution_count": 62,
     "metadata": {},
     "output_type": "execute_result"
    }
   ],
   "source": [
    "# pct_change(): calculate returns\n",
    "return_erc=price_erc.pct_change().dropna()\n",
    "return_erc"
   ]
  },
  {
   "cell_type": "code",
   "execution_count": 63,
   "id": "07159874",
   "metadata": {},
   "outputs": [
    {
     "data": {
      "text/plain": [
       "-0.003786908731769084"
      ]
     },
     "execution_count": 63,
     "metadata": {},
     "output_type": "execute_result"
    }
   ],
   "source": [
    "# ERC\n",
    "# historical 1-day 95% VaR\n",
    "HVaR_95_erc = return_erc.quantile(0.05)\n",
    "HVaR_95_erc"
   ]
  },
  {
   "cell_type": "code",
   "execution_count": 64,
   "id": "5c274973",
   "metadata": {},
   "outputs": [
    {
     "data": {
      "text/plain": [
       "-0.004090953599063678"
      ]
     },
     "execution_count": 64,
     "metadata": {},
     "output_type": "execute_result"
    }
   ],
   "source": [
    "# ERC\n",
    "# analytical 1-day 95% VaR\n",
    "# calculate VaR using point percentile function\n",
    "# Assume normal distribution\n",
    "mean_erc = np.mean(return_erc)\n",
    "std_dev_erc = np.std(return_erc)\n",
    "AVaR_95_erc = norm.ppf(0.05, mean_erc, std_dev_erc)\n",
    "AVaR_95_erc"
   ]
  },
  {
   "cell_type": "code",
   "execution_count": 65,
   "id": "bd25441d",
   "metadata": {},
   "outputs": [],
   "source": [
    "# turnover rate\n",
    "turnover_erc = backtest_erc.turnover.mean()*252"
   ]
  },
  {
   "cell_type": "code",
   "execution_count": 66,
   "id": "6070105d",
   "metadata": {
    "scrolled": true
   },
   "outputs": [
    {
     "data": {
      "text/plain": [
       "rf                        0.017225\n",
       "total_return              2.454619\n",
       "cagr                      0.053018\n",
       "max_drawdown             -0.198663\n",
       "calmar                    0.266875\n",
       "mtd                      -0.006606\n",
       "three_month               0.043310\n",
       "six_month                 0.004528\n",
       "ytd                      -0.113349\n",
       "one_year                 -0.112794\n",
       "three_year                0.001509\n",
       "five_year                 0.017155\n",
       "ten_year                  0.020821\n",
       "incep                     0.053018\n",
       "daily_sharpe              0.829748\n",
       "daily_sortino             1.251461\n",
       "daily_mean                0.050801\n",
       "daily_vol                 0.040642\n",
       "daily_skew               -1.190135\n",
       "daily_kurt               15.782360\n",
       "best_day                  0.019580\n",
       "worst_day                -0.031200\n",
       "monthly_sharpe            0.623150\n",
       "monthly_sortino           0.944979\n",
       "monthly_mean              0.053493\n",
       "monthly_vol               0.058417\n",
       "monthly_skew             -1.639338\n",
       "monthly_kurt              9.160904\n",
       "best_month                0.054300\n",
       "worst_month              -0.112267\n",
       "yearly_sharpe             0.518040\n",
       "yearly_sortino            1.054035\n",
       "yearly_mean               0.055596\n",
       "yearly_vol                0.074070\n",
       "yearly_skew              -0.724931\n",
       "yearly_kurt               0.307929\n",
       "best_year                 0.177208\n",
       "worst_year               -0.113349\n",
       "avg_drawdown             -0.006460\n",
       "avg_drawdown_days        20.502890\n",
       "avg_up_month              0.013426\n",
       "avg_down_month           -0.010713\n",
       "win_year_perc             0.750000\n",
       "twelve_month_win_perc     0.827338\n",
       "dtype: float64"
      ]
     },
     "execution_count": 66,
     "metadata": {},
     "output_type": "execute_result"
    }
   ],
   "source": [
    "report_erc.set_riskfree_rate(rf)                               # set risk-free rate\n",
    "statistics_erc = report_erc['ERC'].stats.drop(['start','end'])\n",
    "statistics_erc = statistics_erc.astype(float)\n",
    "statistics_erc"
   ]
  },
  {
   "cell_type": "code",
   "execution_count": 67,
   "id": "9ef8f6fc",
   "metadata": {
    "scrolled": true
   },
   "outputs": [
    {
     "data": {
      "text/html": [
       "<div>\n",
       "<style scoped>\n",
       "    .dataframe tbody tr th:only-of-type {\n",
       "        vertical-align: middle;\n",
       "    }\n",
       "\n",
       "    .dataframe tbody tr th {\n",
       "        vertical-align: top;\n",
       "    }\n",
       "\n",
       "    .dataframe thead th {\n",
       "        text-align: right;\n",
       "    }\n",
       "</style>\n",
       "<table border=\"1\" class=\"dataframe\">\n",
       "  <thead>\n",
       "    <tr style=\"text-align: right;\">\n",
       "      <th></th>\n",
       "      <th>ERC</th>\n",
       "    </tr>\n",
       "    <tr>\n",
       "      <th>Statistics</th>\n",
       "      <th></th>\n",
       "    </tr>\n",
       "  </thead>\n",
       "  <tbody>\n",
       "    <tr>\n",
       "      <th>Annualized Return (%)</th>\n",
       "      <td>5.30</td>\n",
       "    </tr>\n",
       "    <tr>\n",
       "      <th>Annualized Volatility (%)</th>\n",
       "      <td>7.41</td>\n",
       "    </tr>\n",
       "    <tr>\n",
       "      <th>Maximum Drawdown (%)</th>\n",
       "      <td>-19.87</td>\n",
       "    </tr>\n",
       "    <tr>\n",
       "      <th>Historical VaR (1-day 95%) (%)</th>\n",
       "      <td>-0.38</td>\n",
       "    </tr>\n",
       "    <tr>\n",
       "      <th>Analytical VaR (1-day 95%) (%)</th>\n",
       "      <td>-0.41</td>\n",
       "    </tr>\n",
       "    <tr>\n",
       "      <th>Best Year (%)</th>\n",
       "      <td>17.72</td>\n",
       "    </tr>\n",
       "    <tr>\n",
       "      <th>Worst Year (%)</th>\n",
       "      <td>-11.33</td>\n",
       "    </tr>\n",
       "    <tr>\n",
       "      <th>Turnover (%)</th>\n",
       "      <td>11.09</td>\n",
       "    </tr>\n",
       "    <tr>\n",
       "      <th>Sharpe Ratio</th>\n",
       "      <td>0.52</td>\n",
       "    </tr>\n",
       "    <tr>\n",
       "      <th>Sortino Ratio</th>\n",
       "      <td>1.05</td>\n",
       "    </tr>\n",
       "    <tr>\n",
       "      <th>60/40 Correlation</th>\n",
       "      <td>0.59</td>\n",
       "    </tr>\n",
       "  </tbody>\n",
       "</table>\n",
       "</div>"
      ],
      "text/plain": [
       "                                  ERC\n",
       "Statistics                           \n",
       "Annualized Return (%)            5.30\n",
       "Annualized Volatility (%)        7.41\n",
       "Maximum Drawdown (%)           -19.87\n",
       "Historical VaR (1-day 95%) (%)  -0.38\n",
       "Analytical VaR (1-day 95%) (%)  -0.41\n",
       "Best Year (%)                   17.72\n",
       "Worst Year (%)                 -11.33\n",
       "Turnover (%)                    11.09\n",
       "Sharpe Ratio                     0.52\n",
       "Sortino Ratio                    1.05\n",
       "60/40 Correlation                0.59"
      ]
     },
     "execution_count": 67,
     "metadata": {},
     "output_type": "execute_result"
    }
   ],
   "source": [
    "# summary for risk parity portfolio\n",
    "summary_2 = pd.DataFrame({\n",
    "    'Statistics' : ['Annualized Return (%)', 'Annualized Volatility (%)',  'Maximum Drawdown (%)', 'Historical VaR (1-day 95%) (%)', \n",
    "                    'Analytical VaR (1-day 95%) (%)','Best Year (%)','Worst Year (%)','Turnover (%)',\n",
    "                    'Sharpe Ratio','Sortino Ratio','60/40 Correlation'],\n",
    "    'ERC' : [statistics_erc[2], statistics_erc['yearly_vol'], statistics_erc['max_drawdown'], \n",
    "             HVaR_95_erc, AVaR_95_erc, statistics_erc['best_year'], statistics_erc['worst_year'], turnover_erc,\n",
    "             statistics_erc['yearly_sharpe'], statistics_erc['yearly_sortino'], return_erc.corr(return_6040)]\n",
    "})\n",
    "summary_2 = summary_2.set_index('Statistics')\n",
    "summary_2[0:8] = summary_2[0:8]*100\n",
    "round(summary_2,2)"
   ]
  },
  {
   "cell_type": "code",
   "execution_count": 68,
   "id": "9faea212",
   "metadata": {},
   "outputs": [
    {
     "data": {
      "image/png": "[encoded data removed]",
      "text/plain": [
       "<Figure size 1500x500 with 1 Axes>"
      ]
     },
     "metadata": {},
     "output_type": "display_data"
    }
   ],
   "source": [
    "# plot the price series of the back-test\n",
    "report_erc.plot();"
   ]
  },
  {
   "cell_type": "code",
   "execution_count": 69,
   "id": "cad4e818",
   "metadata": {},
   "outputs": [
    {
     "data": {
      "image/png": "[encoded data removed]",
      "text/plain": [
       "<Figure size 640x480 with 1 Axes>"
      ]
     },
     "metadata": {},
     "output_type": "display_data"
    }
   ],
   "source": [
    "report_erc.get_security_weights().plot.area()\n",
    "plt.title(\"Security Weights for Risk Parity Portfolio\")\n",
    "plt.legend(ncol=1,bbox_to_anchor=(1,0.5));"
   ]
  },
  {
   "cell_type": "code",
   "execution_count": 70,
   "id": "7012fd63",
   "metadata": {},
   "outputs": [],
   "source": [
    "weights_target = report_erc.get_security_weights().copy()\n",
    "rolling_cov_target = price1.loc[:,weights_target.columns].pct_change().rolling(window=days).cov()*252"
   ]
  },
  {
   "cell_type": "code",
   "execution_count": 71,
   "id": "5e878e34",
   "metadata": {},
   "outputs": [],
   "source": [
    "# create a dataframe for risk contribution\n",
    "trc_target = pd.DataFrame(\n",
    "    np.nan,\n",
    "    index = weights_target.index,\n",
    "    columns = weights_target.columns\n",
    ")"
   ]
  },
  {
   "cell_type": "code",
   "execution_count": 72,
   "id": "0bf40520",
   "metadata": {},
   "outputs": [],
   "source": [
    "# calculate the risk contribution for each asset\n",
    "# asset's marginal contribution = mmult(cov,weight)/std\n",
    "# asset's attribution = marginal contribution * weight\n",
    "for dt in price1.index:\n",
    "    trc_target.loc[dt,:] = weights_target.loc[dt,:].values*(rolling_cov_target.loc[dt,:].values@weights_target.loc[dt,:].values)/np.sqrt(weights_target.loc[dt,:].values@rolling_cov_target.loc[dt,:].values@weights_target.loc[dt,:].values)"
   ]
  },
  {
   "cell_type": "code",
   "execution_count": 73,
   "id": "a5bce36b",
   "metadata": {},
   "outputs": [
    {
     "data": {
      "image/png": "[encoded data removed]",
      "text/plain": [
       "<Figure size 640x480 with 1 Axes>"
      ]
     },
     "metadata": {},
     "output_type": "display_data"
    }
   ],
   "source": [
    "# risk contribution series plot\n",
    "trc_target.plot.area()\n",
    "plt.title(\"Total Risk Contribution\")\n",
    "plt.legend(ncol=1,bbox_to_anchor=(1,0.5));"
   ]
  },
  {
   "cell_type": "markdown",
   "id": "f4a83f00",
   "metadata": {},
   "source": [
    "## Appendix"
   ]
  },
  {
   "cell_type": "code",
   "execution_count": 74,
   "id": "5a4dced1",
   "metadata": {},
   "outputs": [
    {
     "name": "stdout",
     "output_type": "stream",
     "text": [
      "Stat                 SAA         60/40\n",
      "-------------------  ----------  ----------\n",
      "Start                1998-12-31  1998-12-31\n",
      "End                  2022-12-30  2022-12-30\n",
      "Risk-free rate       1.72%       1.72%\n",
      "\n",
      "Total Return         397.42%     220.13%\n",
      "Daily Sharpe         0.76        0.38\n",
      "Daily Sortino        1.18        0.59\n",
      "CAGR                 6.91%       4.97%\n",
      "Max Drawdown         -27.08%     -36.46%\n",
      "Calmar Ratio         0.26        0.14\n",
      "\n",
      "MTD                  -0.12%      -2.57%\n",
      "3m                   7.06%       6.12%\n",
      "6m                   1.01%       0.01%\n",
      "YTD                  -12.14%     -15.73%\n",
      "1Y                   -12.00%     -15.71%\n",
      "3Y (ann.)            0.33%       1.95%\n",
      "5Y (ann.)            2.22%       3.59%\n",
      "10Y (ann.)           2.30%       5.31%\n",
      "Since Incep. (ann.)  6.91%       4.97%\n",
      "\n",
      "Daily Sharpe         0.76        0.38\n",
      "Daily Sortino        1.18        0.59\n",
      "Daily Mean (ann.)    6.68%       5.10%\n",
      "Daily Vol (ann.)     6.50%       9.01%\n",
      "Daily Skew           -0.88       -0.39\n",
      "Daily Kurt           12.91       8.11\n",
      "Best Day             3.58%       4.98%\n",
      "Worst Day            -4.36%      -5.53%\n",
      "\n",
      "Monthly Sharpe       0.65        0.38\n",
      "Monthly Sortino      1.03        0.62\n",
      "Monthly Mean (ann.)  7.04%       5.29%\n",
      "Monthly Vol (ann.)   8.20%       9.31%\n",
      "Monthly Skew         -1.32       -0.61\n",
      "Monthly Kurt         6.66        1.62\n",
      "Best Month           6.26%       7.50%\n",
      "Worst Month          -15.04%     -11.94%\n",
      "\n",
      "Yearly Sharpe        0.59        0.34\n",
      "Yearly Sortino       1.31        0.61\n",
      "Yearly Mean          7.33%       5.59%\n",
      "Yearly Vol           9.53%       11.28%\n",
      "Yearly Skew          -0.58       -0.94\n",
      "Yearly Kurt          -0.08       0.38\n",
      "Best Year            23.94%      20.52%\n",
      "Worst Year           -12.14%     -22.98%\n",
      "\n",
      "Avg. Drawdown        -1.10%      -1.28%\n",
      "Avg. Drawdown Days   25.84       28.86\n",
      "Avg. Up Month        1.90%       2.03%\n",
      "Avg. Down Month      -1.73%      -2.17%\n",
      "Win Year %           79.17%      66.67%\n",
      "Win 12m %            81.29%      74.46%\n"
     ]
    }
   ],
   "source": [
    "# all statistics summary for SAA and 60/40 portfolio\n",
    "report_1.display()"
   ]
  },
  {
   "cell_type": "code",
   "execution_count": 75,
   "id": "6f21b3dc",
   "metadata": {},
   "outputs": [
    {
     "name": "stdout",
     "output_type": "stream",
     "text": [
      "Stat                 ERC\n",
      "-------------------  ----------\n",
      "Start                1998-12-31\n",
      "End                  2022-12-30\n",
      "Risk-free rate       1.72%\n",
      "\n",
      "Total Return         245.46%\n",
      "Daily Sharpe         0.83\n",
      "Daily Sortino        1.25\n",
      "CAGR                 5.30%\n",
      "Max Drawdown         -19.87%\n",
      "Calmar Ratio         0.27\n",
      "\n",
      "MTD                  -0.66%\n",
      "3m                   4.33%\n",
      "6m                   0.45%\n",
      "YTD                  -11.33%\n",
      "1Y                   -11.28%\n",
      "3Y (ann.)            0.15%\n",
      "5Y (ann.)            1.72%\n",
      "10Y (ann.)           2.08%\n",
      "Since Incep. (ann.)  5.30%\n",
      "\n",
      "Daily Sharpe         0.83\n",
      "Daily Sortino        1.25\n",
      "Daily Mean (ann.)    5.08%\n",
      "Daily Vol (ann.)     4.06%\n",
      "Daily Skew           -1.19\n",
      "Daily Kurt           15.78\n",
      "Best Day             1.96%\n",
      "Worst Day            -3.12%\n",
      "\n",
      "Monthly Sharpe       0.62\n",
      "Monthly Sortino      0.94\n",
      "Monthly Mean (ann.)  5.35%\n",
      "Monthly Vol (ann.)   5.84%\n",
      "Monthly Skew         -1.64\n",
      "Monthly Kurt         9.16\n",
      "Best Month           5.43%\n",
      "Worst Month          -11.23%\n",
      "\n",
      "Yearly Sharpe        0.52\n",
      "Yearly Sortino       1.05\n",
      "Yearly Mean          5.56%\n",
      "Yearly Vol           7.41%\n",
      "Yearly Skew          -0.72\n",
      "Yearly Kurt          0.31\n",
      "Best Year            17.72%\n",
      "Worst Year           -11.33%\n",
      "\n",
      "Avg. Drawdown        -0.65%\n",
      "Avg. Drawdown Days   20.50\n",
      "Avg. Up Month        1.34%\n",
      "Avg. Down Month      -1.07%\n",
      "Win Year %           75.00%\n",
      "Win 12m %            82.73%\n"
     ]
    }
   ],
   "source": [
    "# all statistics summary for risk parity portfolio\n",
    "report_erc.display()"
   ]
  }
 ],
 "metadata": {
  "kernelspec": {
   "display_name": "Python 3 (ipykernel)",
   "language": "python",
   "name": "python3"
  },
  "language_info": {
   "codemirror_mode": {
    "name": "ipython",
    "version": 3
   },
   "file_extension": ".py",
   "mimetype": "text/x-python",
   "name": "python",
   "nbconvert_exporter": "python",
   "pygments_lexer": "ipython3",
   "version": "3.9.16"
  }
 },
 "nbformat": 4,
 "nbformat_minor": 5
}
